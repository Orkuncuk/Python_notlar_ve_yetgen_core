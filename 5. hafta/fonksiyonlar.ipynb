{
 "cells": [
  {
   "cell_type": "code",
   "execution_count": 1,
   "metadata": {},
   "outputs": [
    {
     "name": "stdout",
     "output_type": "stream",
     "text": [
      "hi!\n"
     ]
    }
   ],
   "source": [
    "def selamla():\n",
    "    print(\"hi!\")\n",
    "selamla()"
   ]
  },
  {
   "cell_type": "code",
   "execution_count": 3,
   "metadata": {},
   "outputs": [
    {
     "name": "stdout",
     "output_type": "stream",
     "text": [
      "merhaba ziyaretci\n",
      "merhaba mehmet\n"
     ]
    }
   ],
   "source": [
    "def helloworld(name = \"ziyaretci\"):\n",
    "    print(\"merhaba\", name)\n",
    "helloworld()\n",
    "helloworld(\"mehmet\")"
   ]
  },
  {
   "cell_type": "code",
   "execution_count": 5,
   "metadata": {},
   "outputs": [
    {
     "name": "stdout",
     "output_type": "stream",
     "text": [
      "6\n"
     ]
    }
   ],
   "source": [
    "def topla(sayi1,sayi2,sayi3):\n",
    "    toplam = sayi1 +sayi2 + sayi3\n",
    "    print(toplam)\n",
    "topla(1,2,3)"
   ]
  },
  {
   "cell_type": "code",
   "execution_count": 7,
   "metadata": {},
   "outputs": [
    {
     "name": "stdout",
     "output_type": "stream",
     "text": [
      "9.0\n"
     ]
    }
   ],
   "source": [
    "def ücgen_alan(a, b):\n",
    "    return (a*b) /2\n",
    "print(ücgen_alan(3,6))"
   ]
  },
  {
   "cell_type": "code",
   "execution_count": 12,
   "metadata": {},
   "outputs": [
    {
     "name": "stdout",
     "output_type": "stream",
     "text": [
      "(1, 2, 3, 4, 5, 6, 7, 9)\n",
      "126\n"
     ]
    }
   ],
   "source": [
    "def sayılar(*x):\n",
    "    print(x)\n",
    "sayılar(1,2,3,4,5,6,7,9)\n",
    "def topla(*y):\n",
    "    toplam = 0\n",
    "    for i in y:\n",
    "        toplam += i\n",
    "    print(toplam)\n",
    "topla(1,2,34,5,67,8,9,0)"
   ]
  },
  {
   "cell_type": "code",
   "execution_count": 13,
   "metadata": {},
   "outputs": [
    {
     "name": "stdout",
     "output_type": "stream",
     "text": [
      "{'adi': 'orkun', 'soyadi': 'aktas', 'yas': 20}\n"
     ]
    }
   ],
   "source": [
    "def kimlik_göster(**kimlik):\n",
    "    print(kimlik)\n",
    "kimlik_göster(adi = \"orkun\", soyadi = \"aktas\", yas = 20 )"
   ]
  },
  {
   "cell_type": "code",
   "execution_count": 14,
   "metadata": {},
   "outputs": [],
   "source": [
    "def carp(*sayilar):\n",
    "    for sayi in sayilar:\n",
    "        pass\n",
    "carp(2,3)"
   ]
  },
  {
   "cell_type": "code",
   "execution_count": 20,
   "metadata": {},
   "outputs": [
    {
     "name": "stdout",
     "output_type": "stream",
     "text": [
      "5\n",
      "5\n",
      "5\n"
     ]
    }
   ],
   "source": [
    "def yazdir():\n",
    "    x = 5\n",
    "    print(x)\n",
    "yazdir()\n",
    "# print(x) hata verir çünkü x bir yerel değişken global değil. bu sorunu çözmek için şu yapılabilir:\n",
    "def yazdir2():\n",
    "    global y \n",
    "    y = 5\n",
    "    print(y)\n",
    "yazdir2()\n",
    "print(y)\n"
   ]
  }
 ],
 "metadata": {
  "kernelspec": {
   "display_name": "Python 3",
   "language": "python",
   "name": "python3"
  },
  "language_info": {
   "codemirror_mode": {
    "name": "ipython",
    "version": 3
   },
   "file_extension": ".py",
   "mimetype": "text/x-python",
   "name": "python",
   "nbconvert_exporter": "python",
   "pygments_lexer": "ipython3",
   "version": "3.11.1"
  },
  "orig_nbformat": 4
 },
 "nbformat": 4,
 "nbformat_minor": 2
}
