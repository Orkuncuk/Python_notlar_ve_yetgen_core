{
 "cells": [
  {
   "cell_type": "code",
   "execution_count": 1,
   "metadata": {},
   "outputs": [
    {
     "name": "stdout",
     "output_type": "stream",
     "text": [
      "hi!\n"
     ]
    }
   ],
   "source": [
    "def selamla():\n",
    "    print(\"hi!\")\n",
    "selamla()"
   ]
  },
  {
   "cell_type": "code",
   "execution_count": 3,
   "metadata": {},
   "outputs": [
    {
     "name": "stdout",
     "output_type": "stream",
     "text": [
      "merhaba ziyaretci\n",
      "merhaba mehmet\n"
     ]
    }
   ],
   "source": [
    "def helloworld(name = \"ziyaretci\"): # name değişkenine bir sabit atatık.\n",
    "    print(\"merhaba\", name)\n",
    "helloworld()\n",
    "helloworld(\"mehmet\") # name'deki ziyaretçi değerini mehmet ile değiştirdik."
   ]
  },
  {
   "cell_type": "code",
   "execution_count": 5,
   "metadata": {},
   "outputs": [
    {
     "name": "stdout",
     "output_type": "stream",
     "text": [
      "6\n"
     ]
    }
   ],
   "source": [
    "def topla(sayi1,sayi2,sayi3): # bir fonksiyona birden fazla değişken ekleyebiliriz.\n",
    "    toplam = sayi1 +sayi2 + sayi3\n",
    "    print(toplam)\n",
    "topla(1,2,3)"
   ]
  },
  {
   "cell_type": "code",
   "execution_count": 8,
   "metadata": {},
   "outputs": [
    {
     "name": "stdout",
     "output_type": "stream",
     "text": [
      "120\n"
     ]
    }
   ],
   "source": [
    "def faktoriyel(n):\n",
    "    if n == 0:\n",
    "        return 1\n",
    "    else:\n",
    "        return n * faktoriyel(n - 1) \n",
    "\n",
    "print(faktoriyel(5)) # başka bir fonksiyon ve return kullanımı örneği."
   ]
  },
  {
   "cell_type": "code",
   "execution_count": 2,
   "metadata": {},
   "outputs": [
    {
     "name": "stdout",
     "output_type": "stream",
     "text": [
      "(1, 2, 3, 4, 5, 6, 7, 9)\n",
      "126\n"
     ]
    }
   ],
   "source": [
    "def sayılar(*x): # değişkenin başına * ifadesini koyarsak ona sınırsız değer verebilirz.\n",
    "    print(x)\n",
    "sayılar(1,2,3,4,5,6,7,9)\n",
    "def topla(*y):\n",
    "    toplam = 0\n",
    "    for i in y:\n",
    "        toplam += i \n",
    "    return toplam\n",
    "print(topla(1,2,34,5,67,8,9,0))"
   ]
  },
  {
   "cell_type": "code",
   "execution_count": 13,
   "metadata": {},
   "outputs": [
    {
     "name": "stdout",
     "output_type": "stream",
     "text": [
      "{'adi': 'orkun', 'soyadi': 'aktas', 'yas': 20}\n"
     ]
    }
   ],
   "source": [
    "def kimlik_göster(**kimlik): # değişkenin başındaki ** ifadesi onun bir sözlük gibi kullanılacağını belirtir.\n",
    "    print(kimlik)\n",
    "kimlik_göster(adi = \"orkun\", soyadi = \"aktas\", yas = 20 )"
   ]
  },
  {
   "cell_type": "code",
   "execution_count": 3,
   "metadata": {},
   "outputs": [],
   "source": [
    "def carp(*sayilar):\n",
    "    for sayi in sayilar:\n",
    "        pass # fonksiyonun bitmemişse hata almadan çalışmasını sağlayabilirsin.\n",
    "carp(2,3)"
   ]
  },
  {
   "cell_type": "code",
   "execution_count": 7,
   "metadata": {},
   "outputs": [
    {
     "name": "stdout",
     "output_type": "stream",
     "text": [
      "5\n",
      "Hata:  name 'x' is not defined\n",
      "5\n",
      "25\n"
     ]
    }
   ],
   "source": [
    "def yazdir():\n",
    "    x = 5\n",
    "    print(x)\n",
    "yazdir()\n",
    "try:\n",
    "    print(x)\n",
    "except NameError as e:\n",
    "    print(\"Hata: \", e) # print(x) hata verir çünkü x bir yerel değişken global değil. bu sorunu çözmek için şu yapılabilir:\n",
    "def yazdir2():\n",
    "    global y # y değişkenini artık fonskiyon dışında da kullanabiliriz.\n",
    "    y = 5\n",
    "    print(y)\n",
    "yazdir2()\n",
    "print(y**2)\n"
   ]
  },
  {
   "cell_type": "code",
   "execution_count": 22,
   "metadata": {},
   "outputs": [
    {
     "data": {
      "text/plain": [
       "'nukro'"
      ]
     },
     "execution_count": 22,
     "metadata": {},
     "output_type": "execute_result"
    }
   ],
   "source": [
    "dikücgenhesapla = lambda a,b: a*b/2\n",
    "dikücgenhesapla(2,3)\n",
    "ters = lambda x: x[::-1]\n",
    "ters(\"orkun\")\n"
   ]
  }
 ],
 "metadata": {
  "kernelspec": {
   "display_name": "Python 3",
   "language": "python",
   "name": "python3"
  },
  "language_info": {
   "codemirror_mode": {
    "name": "ipython",
    "version": 3
   },
   "file_extension": ".py",
   "mimetype": "text/x-python",
   "name": "python",
   "nbconvert_exporter": "python",
   "pygments_lexer": "ipython3",
   "version": "3.11.1"
  },
  "orig_nbformat": 4
 },
 "nbformat": 4,
 "nbformat_minor": 2
}
