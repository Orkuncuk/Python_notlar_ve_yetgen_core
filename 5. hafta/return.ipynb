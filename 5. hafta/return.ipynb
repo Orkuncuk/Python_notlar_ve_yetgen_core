{
 "cells": [
  {
   "cell_type": "code",
   "execution_count": 14,
   "metadata": {},
   "outputs": [
    {
     "name": "stdout",
     "output_type": "stream",
     "text": [
      "6\n",
      "6\n",
      "5\n",
      "None\n"
     ]
    }
   ],
   "source": [
    "def carpma(a, b):\n",
    "    sonuc = a * b\n",
    "    return sonuc\n",
    "\n",
    "x = 2\n",
    "y = 3\n",
    "\n",
    "# Fonksiyonun sonucunu başka bir değişkene atama\n",
    "z = carpma(x, y)\n",
    "print(z)  # Çıktı: 6\n",
    "\n",
    "# Fonksiyonun sonucunu doğrudan ekrana yazdırma\n",
    "print(carpma(x, y))  # Çıktı: 6\n",
    "\n",
    "def toplama(a, b):\n",
    "    sonuc = a + b\n",
    "    print(sonuc) # \"print\" ifadesi, değeri doğrudan ekrana basar, ancak fonksiyonun bir sonucu olarak kabul edilmez.\n",
    "x = 2\n",
    "y = 3\n",
    "z = toplama(x, y) # 5 çıktısını bu satır veriyor.\n",
    "print(z) # yani görüldüğü üzere fonsiyon bir değer dondürmüyor.\n"
   ]
  },
  {
   "cell_type": "code",
   "execution_count": 16,
   "metadata": {},
   "outputs": [
    {
     "name": "stdout",
     "output_type": "stream",
     "text": [
      "16\n",
      "5\n"
     ]
    },
    {
     "ename": "TypeError",
     "evalue": "unsupported operand type(s) for +: 'NoneType' and 'int'",
     "output_type": "error",
     "traceback": [
      "\u001b[1;31m---------------------------------------------------------------------------\u001b[0m",
      "\u001b[1;31mTypeError\u001b[0m                                 Traceback (most recent call last)",
      "Cell \u001b[1;32mIn[16], line 2\u001b[0m\n\u001b[0;32m      1\u001b[0m \u001b[39mprint\u001b[39m(carpma(x,y) \u001b[39m+\u001b[39m\u001b[39m10\u001b[39m)\n\u001b[1;32m----> 2\u001b[0m \u001b[39mprint\u001b[39m(toplama(x,y) \u001b[39m+\u001b[39;49m \u001b[39m10\u001b[39;49m)\n",
      "\u001b[1;31mTypeError\u001b[0m: unsupported operand type(s) for +: 'NoneType' and 'int'"
     ]
    }
   ],
   "source": [
    "print(carpma(x,y) +10) \n",
    "\"\"\"return: return ifadesi, fonksiyonun sonucunu bir değer olarak döndürür. \n",
    "Bu değer, başka işlemlerde kullanılabilir veya bir değişkene atanabilir. \"\"\"\n",
    "print(toplama(x,y) + 10) \n",
    "\"\"\" print ifadesi, bir değeri doğrudan ekrana basar, ancak fonksiyonun bir sonucu olarak kabul edilmez. \n",
    "Bu nedenle, print ifadesiyle doğrudan bir değer üzerinde işlem yapmak mümkün değildir.\"\"\""
   ]
  }
 ],
 "metadata": {
  "kernelspec": {
   "display_name": "Python 3",
   "language": "python",
   "name": "python3"
  },
  "language_info": {
   "codemirror_mode": {
    "name": "ipython",
    "version": 3
   },
   "file_extension": ".py",
   "mimetype": "text/x-python",
   "name": "python",
   "nbconvert_exporter": "python",
   "pygments_lexer": "ipython3",
   "version": "3.11.1"
  },
  "orig_nbformat": 4
 },
 "nbformat": 4,
 "nbformat_minor": 2
}
