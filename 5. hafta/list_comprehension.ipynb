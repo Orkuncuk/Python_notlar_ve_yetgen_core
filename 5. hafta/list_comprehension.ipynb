{
 "cells": [
  {
   "cell_type": "code",
   "execution_count": 3,
   "metadata": {},
   "outputs": [
    {
     "name": "stdout",
     "output_type": "stream",
     "text": [
      "[1, 4, 9, 16, 25, 36, 49, 64, 81, 100]\n",
      "[1, 4, 9, 16, 25, 36, 49, 64, 81, 100]\n"
     ]
    }
   ],
   "source": [
    "# klasik yöntem\n",
    "liste = [1,2,3,4,5,6,7,8,9,10]\n",
    "liste2 = []\n",
    "for i in liste:\n",
    "    liste2.append( i * i)\n",
    "print(liste2)\n",
    "# yeni yöntem\n",
    "yeniliste = [i *i for i in liste]\n",
    "print(yeniliste)"
   ]
  },
  {
   "cell_type": "code",
   "execution_count": 11,
   "metadata": {},
   "outputs": [
    {
     "name": "stdout",
     "output_type": "stream",
     "text": [
      "[1, 2, 3, 4, 5, 6, 7, 8, 9, 10, 11, 12, 13, 14]\n",
      "[1, 2, 3, 4, 5, 6, 7, 8, 9, 10, 11, 12, 13, 14]\n",
      "[1, 2, 3, 5, 6, 7, 9, 10]\n"
     ]
    }
   ],
   "source": [
    "liste3 = [[1,2,3],[4,5,6,7],[8,9,10],[11,12,13,14]]\n",
    "yenix = [x for i in liste3 for x in i ]\n",
    "yeni2x = []\n",
    "print(yenix)\n",
    "# eski yöntem\n",
    "for i in liste3:\n",
    "    for x in i:\n",
    "        yeni2x.append(x)\n",
    "print(yeni2x)\n",
    "taptaze_liste = [1,2,3,4,5,6,7,8,9,10]\n",
    "yeni3x = [i for i in taptaze_liste if not (i == 4 or i == 8)]\n",
    "print(yeni3x)"
   ]
  }
 ],
 "metadata": {
  "kernelspec": {
   "display_name": "Python 3",
   "language": "python",
   "name": "python3"
  },
  "language_info": {
   "codemirror_mode": {
    "name": "ipython",
    "version": 3
   },
   "file_extension": ".py",
   "mimetype": "text/x-python",
   "name": "python",
   "nbconvert_exporter": "python",
   "pygments_lexer": "ipython3",
   "version": "3.11.1"
  },
  "orig_nbformat": 4,
  "vscode": {
   "interpreter": {
    "hash": "5ffd7eb2cebf9ac436b5021ba01877e9cee6b03524e01bf8c8637d3e64111215"
   }
  }
 },
 "nbformat": 4,
 "nbformat_minor": 2
}
