{
 "cells": [
  {
   "cell_type": "code",
   "execution_count": 42,
   "metadata": {},
   "outputs": [
    {
     "name": "stdout",
     "output_type": "stream",
     "text": [
      "<_io.TextIOWrapper name='bilgiler.txt' mode='r' encoding='cp1254'>\n"
     ]
    }
   ],
   "source": [
    "f = open(\"bilgiler.txt\")\n",
    "print(f)\n",
    "f.close()"
   ]
  },
  {
   "cell_type": "code",
   "execution_count": 6,
   "metadata": {},
   "outputs": [
    {
     "name": "stdout",
     "output_type": "stream",
     "text": [
      "dosya bulunamadı\n"
     ]
    }
   ],
   "source": [
    "try:\n",
    "    file = open(\"bilgiler2.txt\",\"r\",encoding= \"utf-8\")\n",
    "except:\n",
    "    print(\"dosya bulunamadı\")"
   ]
  },
  {
   "cell_type": "code",
   "execution_count": 14,
   "metadata": {},
   "outputs": [
    {
     "name": "stdout",
     "output_type": "stream",
     "text": [
      " Anime Kız İsimleri\n",
      " Akeno: Parlak Parlayan Alan,\n",
      " Asami: \"Kenevir\" Veya \"Gelecek\",\n",
      " Hikari: Işık,\n",
      " Haruka: Uzak,\n",
      " Misaki: Güzel Çiçek,\n",
      " Rei: Güzel,\n",
      " Sora: Gökyüzü,\n",
      " Latifa: Nazik."
     ]
    }
   ],
   "source": [
    "file = open(\"bilgiler.txt\",\"r\",encoding= \"utf-8\")\n",
    "for i in file:\n",
    "    print(i, end=\"\")\n",
    "file.close()\n"
   ]
  },
  {
   "cell_type": "code",
   "execution_count": 23,
   "metadata": {},
   "outputs": [
    {
     "name": "stdout",
     "output_type": "stream",
     "text": [
      " Anime Kız İsimleri\n",
      " Akeno: Parlak Parlayan Alan,\n",
      " Asami: \"Kenevir\" Veya \"Gelecek\",\n",
      " Hikari: Işık,\n",
      " Haruka: Uzak,\n",
      " Misaki: Güzel Çiçek,\n",
      " Rei: Güzel,\n",
      " Sora: Gökyüzü,\n",
      " Latifa: Nazik.\n",
      "\n"
     ]
    }
   ],
   "source": [
    "file = open(\"bilgiler.txt\",\"r\",encoding= \"utf-8\")\n",
    "data = file.read(-1) # varsayılan olarak içinde -1 değeri vardır ve tüm texti okur. \n",
    "print(data)\n",
    "file.close()"
   ]
  },
  {
   "cell_type": "code",
   "execution_count": 32,
   "metadata": {},
   "outputs": [
    {
     "name": "stdout",
     "output_type": "stream",
     "text": [
      "[' Anime Kız İsimleri\\n', ' Akeno: Parlak Parlayan Alan,\\n', ' Asami: \"Kenevir\" Veya \"Gelecek\",\\n', ' Hikari: Işık,\\n', ' Haruka: Uzak,\\n', ' Misaki: Güzel Çiçek,\\n', ' Rei: Güzel,\\n', ' Sora: Gökyüzü,\\n', ' Latifa: Nazik.']\n"
     ]
    }
   ],
   "source": [
    "file = open(\"bilgiler.txt\",\"r\",encoding= \"utf-8\")\n",
    "data = file.readlines()\n",
    "print(data)\n",
    "file.close()"
   ]
  },
  {
   "cell_type": "code",
   "execution_count": 4,
   "metadata": {},
   "outputs": [
    {
     "name": "stdout",
     "output_type": "stream",
     "text": [
      "Dosya açma hatası:  [Errno 9] Bad file descriptor\n"
     ]
    }
   ],
   "source": [
    "try:\n",
    "    with open(\"bilgiler2.txt\", \"w\", encoding=\"utf-8\") as file:\n",
    "        file.seek(6)\n",
    "        file.write(\"deneme\")\n",
    "except OSError as e:\n",
    "    print(\"Dosya açma hatası: \", e)"
   ]
  },
  {
   "cell_type": "code",
   "execution_count": 23,
   "metadata": {},
   "outputs": [
    {
     "name": "stdout",
     "output_type": "stream",
     "text": [
      "True\n",
      "666\n"
     ]
    }
   ],
   "source": [
    "import os\n",
    "file_path = \"bilgiler2.txt\"\n",
    "print(os.path.isfile(file_path)) # dosyanın var olup olmadığına bakar\n",
    "mode = os.stat(file_path).st_mode # dosya izinlerine bakar\n",
    "print(oct(mode)[-3:])"
   ]
  },
  {
   "cell_type": "code",
   "execution_count": 4,
   "metadata": {},
   "outputs": [
    {
     "name": "stdout",
     "output_type": "stream",
     "text": [
      "z İsim\n"
     ]
    }
   ],
   "source": [
    "import os\n",
    "\n",
    "dosya_yolu = \"bilgiler2.txt\"\n",
    "\n",
    "if os.path.isfile(dosya_yolu):\n",
    "    with open(dosya_yolu, \"r\", encoding=\"utf-8\") as dosya:\n",
    "        dosya.seek(10) # 10. karakteri buldu\n",
    "        deger = dosya.read(6) # 6 bytlık veri okudu\n",
    "        print(deger)\n",
    "else:\n",
    "    print(\"Dosya yok\")\n",
    "\n"
   ]
  },
  {
   "cell_type": "code",
   "execution_count": 19,
   "metadata": {},
   "outputs": [
    {
     "name": "stdout",
     "output_type": "stream",
     "text": [
      "True\n",
      "666\n"
     ]
    },
    {
     "ename": "OSError",
     "evalue": "[Errno 22] Invalid argument: '8. hafta\\x08ilgiler2.txt'",
     "output_type": "error",
     "traceback": [
      "\u001b[1;31m---------------------------------------------------------------------------\u001b[0m",
      "\u001b[1;31mOSError\u001b[0m                                   Traceback (most recent call last)",
      "Cell \u001b[1;32mIn[19], line 6\u001b[0m\n\u001b[0;32m      4\u001b[0m mode \u001b[39m=\u001b[39m os\u001b[39m.\u001b[39mstat(file_path)\u001b[39m.\u001b[39mst_mode \u001b[39m# dosya izinlerine bakar\u001b[39;00m\n\u001b[0;32m      5\u001b[0m \u001b[39mprint\u001b[39m(\u001b[39moct\u001b[39m(mode)[\u001b[39m-\u001b[39m\u001b[39m3\u001b[39m:])\n\u001b[1;32m----> 6\u001b[0m \u001b[39mwith\u001b[39;00m \u001b[39mopen\u001b[39;49m(\u001b[39m\"\u001b[39;49m\u001b[39m8. hafta\u001b[39;49m\u001b[39m\\b\u001b[39;49;00m\u001b[39milgiler2.txt\u001b[39;49m\u001b[39m\"\u001b[39;49m, \u001b[39m\"\u001b[39;49m\u001b[39mw\u001b[39;49m\u001b[39m\"\u001b[39;49m, encoding\u001b[39m=\u001b[39;49m\u001b[39m\"\u001b[39;49m\u001b[39mutf-8\u001b[39;49m\u001b[39m\"\u001b[39;49m) \u001b[39mas\u001b[39;00m file:\n\u001b[0;32m      7\u001b[0m     file\u001b[39m.\u001b[39mwrite(\u001b[39m\"\u001b[39m\u001b[39mdeneme\u001b[39m\u001b[39m\"\u001b[39m)\n\u001b[0;32m      9\u001b[0m \u001b[39mwith\u001b[39;00m \u001b[39mopen\u001b[39m(\u001b[39mr\u001b[39m\u001b[39m\"\u001b[39m\u001b[39mC:\u001b[39m\u001b[39m\\\u001b[39m\u001b[39mUsers\u001b[39m\u001b[39m\\\u001b[39m\u001b[39mPC\u001b[39m\u001b[39m\\\u001b[39m\u001b[39mOneDrive - boun.edu.tr\u001b[39m\u001b[39m\\\u001b[39m\u001b[39mBelgeler\u001b[39m\u001b[39m\\\u001b[39m\u001b[39mGitHub\u001b[39m\u001b[39m\\\u001b[39m\u001b[39morkuncalismaalani\u001b[39m\u001b[39m\\\u001b[39m\u001b[39m8. hafta\u001b[39m\u001b[39m\\\u001b[39m\u001b[39mbilgiler2.txt\u001b[39m\u001b[39m\"\u001b[39m,\u001b[39m\"\u001b[39m\u001b[39mw\u001b[39m\u001b[39m\"\u001b[39m, encoding\u001b[39m=\u001b[39m\u001b[39m\"\u001b[39m\u001b[39mutf-8\u001b[39m\u001b[39m\"\u001b[39m) \u001b[39mas\u001b[39;00m file:\n",
      "File \u001b[1;32m~\\AppData\\Roaming\\Python\\Python311\\site-packages\\IPython\\core\\interactiveshell.py:282\u001b[0m, in \u001b[0;36m_modified_open\u001b[1;34m(file, *args, **kwargs)\u001b[0m\n\u001b[0;32m    275\u001b[0m \u001b[39mif\u001b[39;00m file \u001b[39min\u001b[39;00m {\u001b[39m0\u001b[39m, \u001b[39m1\u001b[39m, \u001b[39m2\u001b[39m}:\n\u001b[0;32m    276\u001b[0m     \u001b[39mraise\u001b[39;00m \u001b[39mValueError\u001b[39;00m(\n\u001b[0;32m    277\u001b[0m         \u001b[39mf\u001b[39m\u001b[39m\"\u001b[39m\u001b[39mIPython won\u001b[39m\u001b[39m'\u001b[39m\u001b[39mt let you open fd=\u001b[39m\u001b[39m{\u001b[39;00mfile\u001b[39m}\u001b[39;00m\u001b[39m by default \u001b[39m\u001b[39m\"\u001b[39m\n\u001b[0;32m    278\u001b[0m         \u001b[39m\"\u001b[39m\u001b[39mas it is likely to crash IPython. If you know what you are doing, \u001b[39m\u001b[39m\"\u001b[39m\n\u001b[0;32m    279\u001b[0m         \u001b[39m\"\u001b[39m\u001b[39myou can use builtins\u001b[39m\u001b[39m'\u001b[39m\u001b[39m open.\u001b[39m\u001b[39m\"\u001b[39m\n\u001b[0;32m    280\u001b[0m     )\n\u001b[1;32m--> 282\u001b[0m \u001b[39mreturn\u001b[39;00m io_open(file, \u001b[39m*\u001b[39;49margs, \u001b[39m*\u001b[39;49m\u001b[39m*\u001b[39;49mkwargs)\n",
      "\u001b[1;31mOSError\u001b[0m: [Errno 22] Invalid argument: '8. hafta\\x08ilgiler2.txt'"
     ]
    }
   ],
   "source": [
    "import os\n",
    "file_path = \"bilgiler2.txt\"\n",
    "print(os.path.isfile(file_path)) # dosyanın var olup olmadığına bakar\n",
    "mode = os.stat(file_path).st_mode # dosya izinlerine bakar\n",
    "print(oct(mode)[-3:])\n",
    "with open(\"8. hafta\\bilgiler2.txt\", \"w\", encoding=\"utf-8\") as file:\n",
    "    file.write(\"deneme\")\n",
    "\n",
    "with open(r\"C:\\Users\\PC\\OneDrive - boun.edu.tr\\Belgeler\\GitHub\\orkuncalismaalani\\8. hafta\\bilgiler2.txt\",\"w\", encoding=\"utf-8\") as file:\n",
    "    file.write(\"deneme\")\n"
   ]
  }
 ],
 "metadata": {
  "kernelspec": {
   "display_name": "Python 3",
   "language": "python",
   "name": "python3"
  },
  "language_info": {
   "codemirror_mode": {
    "name": "ipython",
    "version": 3
   },
   "file_extension": ".py",
   "mimetype": "text/x-python",
   "name": "python",
   "nbconvert_exporter": "python",
   "pygments_lexer": "ipython3",
   "version": "3.11.1"
  },
  "orig_nbformat": 4
 },
 "nbformat": 4,
 "nbformat_minor": 2
}
