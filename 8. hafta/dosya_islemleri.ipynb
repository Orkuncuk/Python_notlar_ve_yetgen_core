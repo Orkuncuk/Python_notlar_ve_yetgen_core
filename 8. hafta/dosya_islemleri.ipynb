{
 "cells": [
  {
   "cell_type": "code",
   "execution_count": 42,
   "metadata": {},
   "outputs": [
    {
     "name": "stdout",
     "output_type": "stream",
     "text": [
      "<_io.TextIOWrapper name='bilgiler.txt' mode='r' encoding='cp1254'>\n"
     ]
    }
   ],
   "source": [
    "f = open(\"bilgiler.txt\")\n",
    "print(f)\n",
    "f.close()"
   ]
  },
  {
   "cell_type": "code",
   "execution_count": 6,
   "metadata": {},
   "outputs": [
    {
     "name": "stdout",
     "output_type": "stream",
     "text": [
      "dosya bulunamadı\n"
     ]
    }
   ],
   "source": [
    "try:\n",
    "    file = open(\"bilgiler2.txt\",\"r\",encoding= \"utf-8\")\n",
    "except:\n",
    "    print(\"dosya bulunamadı\")"
   ]
  },
  {
   "cell_type": "code",
   "execution_count": 14,
   "metadata": {},
   "outputs": [
    {
     "name": "stdout",
     "output_type": "stream",
     "text": [
      " Anime Kız İsimleri\n",
      " Akeno: Parlak Parlayan Alan,\n",
      " Asami: \"Kenevir\" Veya \"Gelecek\",\n",
      " Hikari: Işık,\n",
      " Haruka: Uzak,\n",
      " Misaki: Güzel Çiçek,\n",
      " Rei: Güzel,\n",
      " Sora: Gökyüzü,\n",
      " Latifa: Nazik."
     ]
    }
   ],
   "source": [
    "file = open(\"bilgiler.txt\",\"r\",encoding= \"utf-8\")\n",
    "for i in file:\n",
    "    print(i, end=\"\")\n",
    "file.close()\n"
   ]
  },
  {
   "cell_type": "code",
   "execution_count": 23,
   "metadata": {},
   "outputs": [
    {
     "name": "stdout",
     "output_type": "stream",
     "text": [
      " Anime Kız İsimleri\n",
      " Akeno: Parlak Parlayan Alan,\n",
      " Asami: \"Kenevir\" Veya \"Gelecek\",\n",
      " Hikari: Işık,\n",
      " Haruka: Uzak,\n",
      " Misaki: Güzel Çiçek,\n",
      " Rei: Güzel,\n",
      " Sora: Gökyüzü,\n",
      " Latifa: Nazik.\n",
      "\n"
     ]
    }
   ],
   "source": [
    "file = open(\"bilgiler.txt\",\"r\",encoding= \"utf-8\")\n",
    "data = file.read(-1) # varsayılan olarak içinde -1 değeri vardır ve tüm texti okur. \n",
    "print(data)\n",
    "file.close()"
   ]
  },
  {
   "cell_type": "code",
   "execution_count": 32,
   "metadata": {},
   "outputs": [
    {
     "name": "stdout",
     "output_type": "stream",
     "text": [
      "[' Anime Kız İsimleri\\n', ' Akeno: Parlak Parlayan Alan,\\n', ' Asami: \"Kenevir\" Veya \"Gelecek\",\\n', ' Hikari: Işık,\\n', ' Haruka: Uzak,\\n', ' Misaki: Güzel Çiçek,\\n', ' Rei: Güzel,\\n', ' Sora: Gökyüzü,\\n', ' Latifa: Nazik.']\n"
     ]
    }
   ],
   "source": [
    "file = open(\"bilgiler.txt\",\"r\",encoding= \"utf-8\")\n",
    "data = file.readlines()\n",
    "print(data)\n",
    "file.close()"
   ]
  },
  {
   "cell_type": "code",
   "execution_count": 4,
   "metadata": {},
   "outputs": [
    {
     "name": "stdout",
     "output_type": "stream",
     "text": [
      "Dosya açma hatası:  [Errno 9] Bad file descriptor\n"
     ]
    }
   ],
   "source": [
    "try:\n",
    "    with open(\"bilgiler2.txt\", \"w\", encoding=\"utf-8\") as file:\n",
    "        file.seek(6)\n",
    "        file.write(\"deneme\")\n",
    "except OSError as e:\n",
    "    print(\"Dosya açma hatası: \", e)"
   ]
  },
  {
   "cell_type": "code",
   "execution_count": 23,
   "metadata": {},
   "outputs": [
    {
     "name": "stdout",
     "output_type": "stream",
     "text": [
      "True\n",
      "666\n"
     ]
    }
   ],
   "source": [
    "import os\n",
    "file_path = \"bilgiler2.txt\"\n",
    "print(os.path.isfile(file_path)) # dosyanın var olup olmadığına bakar\n",
    "mode = os.stat(file_path).st_mode # dosya izinlerine bakar\n",
    "print(oct(mode)[-3:])"
   ]
  },
  {
   "cell_type": "code",
   "execution_count": 4,
   "metadata": {},
   "outputs": [
    {
     "name": "stdout",
     "output_type": "stream",
     "text": [
      "z İsim\n"
     ]
    }
   ],
   "source": [
    "import os\n",
    "\n",
    "dosya_yolu = \"bilgiler2.txt\"\n",
    "\n",
    "if os.path.isfile(dosya_yolu):\n",
    "    with open(dosya_yolu, \"r\", encoding=\"utf-8\") as dosya:\n",
    "        dosya.seek(10) # 10. karakteri buldu\n",
    "        deger = dosya.read(6) # 6 bytlık veri okudu\n",
    "        print(deger)\n",
    "else:\n",
    "    print(\"Dosya yok\")\n",
    "\n"
   ]
  },
  {
   "cell_type": "code",
   "execution_count": 18,
   "metadata": {},
   "outputs": [
    {
     "ename": "OSError",
     "evalue": "[Errno 9] Bad file descriptor",
     "output_type": "error",
     "traceback": [
      "\u001b[1;31m---------------------------------------------------------------------------\u001b[0m",
      "\u001b[1;31mOSError\u001b[0m                                   Traceback (most recent call last)",
      "\u001b[1;31mOSError\u001b[0m: [Errno 9] Bad file descriptor",
      "\nDuring handling of the above exception, another exception occurred:\n",
      "\u001b[1;31mOSError\u001b[0m                                   Traceback (most recent call last)",
      "Cell \u001b[1;32mIn[18], line 1\u001b[0m\n\u001b[1;32m----> 1\u001b[0m \u001b[39mwith\u001b[39;49;00m \u001b[39mopen\u001b[39;49m(\u001b[39m\"\u001b[39;49m\u001b[39mbilgiler2.txt\u001b[39;49m\u001b[39m\"\u001b[39;49m, \u001b[39m\"\u001b[39;49m\u001b[39mw\u001b[39;49m\u001b[39m\"\u001b[39;49m, encoding\u001b[39m=\u001b[39;49m\u001b[39m\"\u001b[39;49m\u001b[39mutf-8\u001b[39;49m\u001b[39m\"\u001b[39;49m) \u001b[39mas\u001b[39;49;00m file:\n\u001b[0;32m      2\u001b[0m         file\u001b[39m.\u001b[39;49mseek(\u001b[39m6\u001b[39;49m)\n\u001b[0;32m      3\u001b[0m         file\u001b[39m.\u001b[39;49mwrite(\u001b[39m\"\u001b[39;49m\u001b[39mdeneme\u001b[39;49m\u001b[39m\"\u001b[39;49m)\n",
      "\u001b[1;31mOSError\u001b[0m: [Errno 9] Bad file descriptor"
     ]
    }
   ],
   "source": [
    "with open(\"bilgiler2.txt\", \"w\", encoding=\"utf-8\") as file:\n",
    "        file.seek(6)\n",
    "        file.write(\"deneme\")"
   ]
  }
 ],
 "metadata": {
  "kernelspec": {
   "display_name": "Python 3",
   "language": "python",
   "name": "python3"
  },
  "language_info": {
   "codemirror_mode": {
    "name": "ipython",
    "version": 3
   },
   "file_extension": ".py",
   "mimetype": "text/x-python",
   "name": "python",
   "nbconvert_exporter": "python",
   "pygments_lexer": "ipython3",
   "version": "3.11.1"
  },
  "orig_nbformat": 4
 },
 "nbformat": 4,
 "nbformat_minor": 2
}
