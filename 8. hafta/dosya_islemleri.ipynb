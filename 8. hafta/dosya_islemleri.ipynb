{
 "cells": [
  {
   "cell_type": "code",
   "execution_count": 42,
   "metadata": {},
   "outputs": [
    {
     "name": "stdout",
     "output_type": "stream",
     "text": [
      "<_io.TextIOWrapper name='bilgiler.txt' mode='r' encoding='cp1254'>\n"
     ]
    }
   ],
   "source": [
    "f = open(\"bilgiler.txt\")\n",
    "print(f)\n",
    "f.close()"
   ]
  },
  {
   "cell_type": "code",
   "execution_count": 6,
   "metadata": {},
   "outputs": [
    {
     "name": "stdout",
     "output_type": "stream",
     "text": [
      "dosya bulunamadı\n"
     ]
    }
   ],
   "source": [
    "try:\n",
    "    file = open(\"bilgiler2.txt\",\"r\",encoding= \"utf-8\")\n",
    "except:\n",
    "    print(\"dosya bulunamadı\")"
   ]
  },
  {
   "cell_type": "code",
   "execution_count": 14,
   "metadata": {},
   "outputs": [
    {
     "name": "stdout",
     "output_type": "stream",
     "text": [
      " Anime Kız İsimleri\n",
      " Akeno: Parlak Parlayan Alan,\n",
      " Asami: \"Kenevir\" Veya \"Gelecek\",\n",
      " Hikari: Işık,\n",
      " Haruka: Uzak,\n",
      " Misaki: Güzel Çiçek,\n",
      " Rei: Güzel,\n",
      " Sora: Gökyüzü,\n",
      " Latifa: Nazik."
     ]
    }
   ],
   "source": [
    "file = open(\"bilgiler.txt\",\"r\",encoding= \"utf-8\")\n",
    "for i in file:\n",
    "    print(i, end=\"\")\n",
    "file.close()\n"
   ]
  },
  {
   "cell_type": "code",
   "execution_count": 23,
   "metadata": {},
   "outputs": [
    {
     "name": "stdout",
     "output_type": "stream",
     "text": [
      " Anime Kız İsimleri\n",
      " Akeno: Parlak Parlayan Alan,\n",
      " Asami: \"Kenevir\" Veya \"Gelecek\",\n",
      " Hikari: Işık,\n",
      " Haruka: Uzak,\n",
      " Misaki: Güzel Çiçek,\n",
      " Rei: Güzel,\n",
      " Sora: Gökyüzü,\n",
      " Latifa: Nazik.\n",
      "\n"
     ]
    }
   ],
   "source": [
    "file = open(\"bilgiler.txt\",\"r\",encoding= \"utf-8\")\n",
    "data = file.read(-1) # varsayılan olarak içinde -1 değeri vardır ve tüm texti okur. \n",
    "print(data)\n",
    "file.close()"
   ]
  },
  {
   "cell_type": "code",
   "execution_count": 32,
   "metadata": {},
   "outputs": [
    {
     "name": "stdout",
     "output_type": "stream",
     "text": [
      "[' Anime Kız İsimleri\\n', ' Akeno: Parlak Parlayan Alan,\\n', ' Asami: \"Kenevir\" Veya \"Gelecek\",\\n', ' Hikari: Işık,\\n', ' Haruka: Uzak,\\n', ' Misaki: Güzel Çiçek,\\n', ' Rei: Güzel,\\n', ' Sora: Gökyüzü,\\n', ' Latifa: Nazik.']\n"
     ]
    }
   ],
   "source": [
    "file = open(\"bilgiler.txt\",\"r\",encoding= \"utf-8\")\n",
    "data = file.readlines()\n",
    "print(data)\n",
    "file.close()"
   ]
  },
  {
   "cell_type": "code",
   "execution_count": 3,
   "metadata": {},
   "outputs": [
    {
     "name": "stdout",
     "output_type": "stream",
     "text": [
      "Dosya açma hatası:  [Errno 9] Bad file descriptor\n"
     ]
    }
   ],
   "source": [
    "try:\n",
    "    with open(\"bilgiler2.txt\", \"w\", encoding=\"utf-8\") as file:\n",
    "        file.seek(6)\n",
    "        file.write(\"deneme\")\n",
    "except OSError as e:\n",
    "    print(\"Dosya açma hatası: \", e)"
   ]
  }
 ],
 "metadata": {
  "kernelspec": {
   "display_name": "Python 3",
   "language": "python",
   "name": "python3"
  },
  "language_info": {
   "codemirror_mode": {
    "name": "ipython",
    "version": 3
   },
   "file_extension": ".py",
   "mimetype": "text/x-python",
   "name": "python",
   "nbconvert_exporter": "python",
   "pygments_lexer": "ipython3",
   "version": "3.11.1"
  },
  "orig_nbformat": 4
 },
 "nbformat": 4,
 "nbformat_minor": 2
}
