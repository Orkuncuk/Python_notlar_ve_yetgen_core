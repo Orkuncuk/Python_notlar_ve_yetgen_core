{
 "cells": [
  {
   "cell_type": "code",
   "execution_count": 1,
   "metadata": {},
   "outputs": [],
   "source": [
    "class Araba():\n",
    "    model = \"şismsek mcqueen\"\n",
    "    renk = \"kırmızı\"\n",
    "    beygir = \"200\"\n",
    "    silindir = \"8\""
   ]
  },
  {
   "cell_type": "code",
   "execution_count": 2,
   "metadata": {},
   "outputs": [
    {
     "name": "stdout",
     "output_type": "stream",
     "text": [
      "şismsek mcqueen\n"
     ]
    }
   ],
   "source": [
    "araba1 = Araba()\n",
    "print(araba1.model)"
   ]
  },
  {
   "cell_type": "code",
   "execution_count": 8,
   "metadata": {},
   "outputs": [
    {
     "name": "stdout",
     "output_type": "stream",
     "text": [
      "program çalıştı\n",
      "<__main__.Araba object at 0x000001F5798A5010>\n",
      "Alice\n",
      "30\n",
      "Hello, my name is Alice and I'm 30 years old.\n"
     ]
    }
   ],
   "source": [
    "class Araba():\n",
    "    def __init__(self):\n",
    "        print(\"program çalıştı\")\n",
    "araba2 = Araba()\n",
    "print(araba2)\n",
    "\n",
    "class Person:\n",
    "    def __init__(self, name, age):\n",
    "        self.isim = name\n",
    "        self.age = age\n",
    "person1 = Person(\"Alice\", 30)\n",
    "print(person1.isim) # Alice\n",
    "print(person1.age) # 30\n",
    "\n",
    "class Person:\n",
    "    def __init__(self, name, age):\n",
    "        self.name = name\n",
    "        self.age = age\n",
    "    \n",
    "    def say_hello(self):\n",
    "        print(\"Hello, my name is \" + self.name + \" and I'm \" + str(self.age) + \" years old.\")\n",
    "\n",
    "person1 = Person(\"Alice\", 30)\n",
    "person1.say_hello() # Hello, my name is Alice and I'm 30 years old.\n"
   ]
  }
 ],
 "metadata": {
  "kernelspec": {
   "display_name": "Python 3",
   "language": "python",
   "name": "python3"
  },
  "language_info": {
   "codemirror_mode": {
    "name": "ipython",
    "version": 3
   },
   "file_extension": ".py",
   "mimetype": "text/x-python",
   "name": "python",
   "nbconvert_exporter": "python",
   "pygments_lexer": "ipython3",
   "version": "3.11.1"
  },
  "orig_nbformat": 4
 },
 "nbformat": 4,
 "nbformat_minor": 2
}
