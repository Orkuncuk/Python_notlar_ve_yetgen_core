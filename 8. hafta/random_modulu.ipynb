{
 "cells": [
  {
   "cell_type": "code",
   "execution_count": 29,
   "metadata": {},
   "outputs": [
    {
     "name": "stdout",
     "output_type": "stream",
     "text": [
      "0.4816588654952556--0.37095573339167587--0.2192855457382279--\n",
      "\n",
      "12.716087022020918\n",
      "13.087552434729343\n",
      "15.690418504295288\n",
      "6\n",
      "6\n",
      "5\n"
     ]
    },
    {
     "data": {
      "text/plain": [
       "[6, 39, 96, 401, 430, 456, 643, 794, 827, 933]"
      ]
     },
     "execution_count": 29,
     "metadata": {},
     "output_type": "execute_result"
    }
   ],
   "source": [
    "import random\n",
    "for i in range(3):\n",
    "    print(random.random(), end = \"--\")\n",
    "print(\"\\n\")\n",
    "for i in range(3):\n",
    "    print(random.uniform(10,20) ,)\n",
    "for i in range(3):\n",
    "    print(random.randint(2,9))\n"
   ]
  },
  {
   "cell_type": "code",
   "execution_count": null,
   "metadata": {},
   "outputs": [],
   "source": [
    "# örnek bir uygulama \n",
    "\n",
    "random_numbers = []\n",
    "for i in range(10):\n",
    "    random_numbers.append(random.randint(1, 1000))\n",
    "def selection_sort(lst):\n",
    "    n = len(lst)\n",
    "    for i in range(n):\n",
    "        min_index = i\n",
    "        for j in range(i+1, n):\n",
    "            if lst[j] < lst[min_index]:\n",
    "                min_index = j\n",
    "        lst[i], lst[min_index] = lst[min_index], lst[i]\n",
    "    return lst\n",
    "selection_sort(random_numbers)"
   ]
  },
  {
   "cell_type": "code",
   "execution_count": 36,
   "metadata": {},
   "outputs": [
    {
     "name": "stdout",
     "output_type": "stream",
     "text": [
      "1 gelme olsaılığı: 0.172\n",
      "2 gelme olsaılığı: 0.1683\n",
      "3 gelme olsaılığı: 0.1566\n",
      "4 gelme olsaılığı: 0.1721\n",
      "5 gelme olsaılığı: 0.1624\n",
      "6 gelme olsaılığı: 0.1686\n"
     ]
    }
   ],
   "source": [
    "# örnek bir uygulama\n",
    "import random\n",
    "zar = {1:0, 2:0, 3:0, 4:0, 5:0, 6:0 }\n",
    "for i in range(10000):\n",
    "    a = random.randint(1,6)\n",
    "    zar[a] += 1\n",
    "for j in zar:\n",
    "    print(f\"{j} gelme olsaılığı: {zar[j] / 10000}\")\n",
    "\n"
   ]
  },
  {
   "cell_type": "code",
   "execution_count": 41,
   "metadata": {},
   "outputs": [
    {
     "name": "stdout",
     "output_type": "stream",
     "text": [
      "100'ndan 2 adet düşeş geldi\n"
     ]
    }
   ],
   "source": [
    "# örnek bir uygulama\n",
    "import random\n",
    "def dü_şeş(deneme_sayisi):\n",
    "    alti_alti = 0\n",
    "    for i in range(deneme_sayisi):\n",
    "        zar1 = random.randint(1,6)\n",
    "        zar2 = random.randint(1,6)\n",
    "        if zar1 == 6 and zar2 == 6:\n",
    "            alti_alti += 1\n",
    "    print(f\"{deneme_sayisi}'ndan {alti_alti} adet düşeş geldi\")\n",
    "\n",
    "\n",
    "dü_şeş(100)\n"
   ]
  },
  {
   "cell_type": "code",
   "execution_count": 28,
   "metadata": {},
   "outputs": [
    {
     "name": "stdout",
     "output_type": "stream",
     "text": [
      "mavi\n",
      "['yeşil', 'mavi', 'siyah', 'beyaz', 'turuncu', 'gri']\n",
      "['siyah', 'yeşil', 'beyaz']\n"
     ]
    }
   ],
   "source": [
    "\n",
    "liste = [\"siyah\", \"mavi\", \"beyaz\", \"gri\", \"yeşil\", \"turuncu\"]\n",
    "print(random.choice(liste))\n",
    "random.shuffle(liste)\n",
    "print(liste)\n",
    "print(random.sample(liste,3))"
   ]
  }
 ],
 "metadata": {
  "kernelspec": {
   "display_name": "Python 3",
   "language": "python",
   "name": "python3"
  },
  "language_info": {
   "codemirror_mode": {
    "name": "ipython",
    "version": 3
   },
   "file_extension": ".py",
   "mimetype": "text/x-python",
   "name": "python",
   "nbconvert_exporter": "python",
   "pygments_lexer": "ipython3",
   "version": "3.11.1"
  },
  "orig_nbformat": 4
 },
 "nbformat": 4,
 "nbformat_minor": 2
}
