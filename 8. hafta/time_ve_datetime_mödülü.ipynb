{
 "cells": [
  {
   "cell_type": "code",
   "execution_count": 1,
   "metadata": {},
   "outputs": [
    {
     "name": "stdout",
     "output_type": "stream",
     "text": [
      "0.7653493881225586\n"
     ]
    }
   ],
   "source": [
    "import time\n",
    "önce = time.time() # 1970 den beri geçen zaman\n",
    "liste = []\n",
    "for i in range(10000000):\n",
    "    liste.append(i)\n",
    "sonra = time.time()\n",
    "print(sonra - önce)\n"
   ]
  },
  {
   "cell_type": "code",
   "execution_count": 14,
   "metadata": {},
   "outputs": [
    {
     "name": "stdout",
     "output_type": "stream",
     "text": [
      "Thu Apr 13 17:59:32 2023\n",
      "time.struct_time(tm_year=2023, tm_mon=4, tm_mday=13, tm_hour=17, tm_min=59, tm_sec=32, tm_wday=3, tm_yday=103, tm_isdst=0)\n",
      "Sat Mar  3 12:46:40 1973\n",
      "13-04-2023 17:59:32\n"
     ]
    }
   ],
   "source": [
    "zaman1 = time.ctime() # içine saniye cinsinden değer alır ve girilen değer 1970'den başlar\n",
    "print(zaman1)\n",
    "zaman2 = time.localtime() # bu da saniye cinsinden değer alır\n",
    "print(zaman2)\n",
    "örnek_zaman = time.localtime(100000000)\n",
    "zaman3 = time.asctime(örnek_zaman) # bu ise tuprle veya localtime gibi değerlr alır\n",
    "print(zaman3)\n",
    "zaman4 = time.strftime(\"%d-%m-%Y %H:%M:%S\") # istediğin formatta zaman girebilmeni sağlar\n",
    "print(zaman4)"
   ]
  },
  {
   "cell_type": "code",
   "execution_count": 15,
   "metadata": {},
   "outputs": [
    {
     "name": "stdout",
     "output_type": "stream",
     "text": [
      "program başladı\n",
      "program sonlandı\n"
     ]
    }
   ],
   "source": [
    "print(\"program başladı\")\n",
    "time.sleep(3) # saniye cinsinden değer alır\n",
    "print(\"program sonlandı\")"
   ]
  },
  {
   "cell_type": "code",
   "execution_count": 7,
   "metadata": {},
   "outputs": [
    {
     "name": "stdout",
     "output_type": "stream",
     "text": [
      "2023-04-13 <class 'datetime.date'>\n",
      "13 4 2023\n",
      "2010-08-10\n",
      "1\n",
      "4629 days, 0:00:00\n"
     ]
    }
   ],
   "source": [
    "from datetime import date\n",
    "bugun = date.today()\n",
    "print(bugun, type(bugun))\n",
    "print(bugun.day, bugun.month, bugun.year)\n",
    "gecmıs_tarih = date(2010,8,10)\n",
    "print(gecmıs_tarih)\n",
    "print(gecmıs_tarih.weekday()) # weekday da pazartesi 0 dır, isoweekday de ise pazartesi 1 dir # yani o gün salıymış\n",
    "gecen_zaman = bugun - gecmıs_tarih\n",
    "print(gecen_zaman)\n"
   ]
  },
  {
   "cell_type": "code",
   "execution_count": 23,
   "metadata": {},
   "outputs": [
    {
     "name": "stdout",
     "output_type": "stream",
     "text": [
      "2023-04-13 18:32:10.919626 <class 'datetime.datetime'>\n",
      "13 4 2023 18 32 10\n",
      "Thu Apr 13 18:32:10 2023\n",
      "2023-04-13 18:32:10.919626\n",
      "13-04-2023 gün = Thursday\n"
     ]
    }
   ],
   "source": [
    "from datetime import datetime\n",
    "suan = datetime.now()\n",
    "print(suan, type(suan))\n",
    "print(suan.day, suan.month, suan.year, suan.hour, suan.minute, suan.second)\n",
    "print(suan.ctime())\n",
    "print(suan.date(), suan.time())\n",
    "print(suan.strftime(\"%d-%m-%Y gün = %A\"))"
   ]
  },
  {
   "cell_type": "code",
   "execution_count": 26,
   "metadata": {},
   "outputs": [
    {
     "name": "stdout",
     "output_type": "stream",
     "text": [
      "2024-04-13 06:35:30.005089\n"
     ]
    }
   ],
   "source": [
    "from datetime import date, timedelta\n",
    "\n",
    "tarih = datetime.now()\n",
    "sonra = tarih + timedelta(days=365,hours=12,seconds=31)\n",
    "önce = tarih - timedelta(days=365,hours=12,seconds=31)\n",
    "print(sonra) \n",
    "print(önce)\n",
    "\n"
   ]
  },
  {
   "cell_type": "code",
   "execution_count": 43,
   "metadata": {},
   "outputs": [
    {
     "name": "stdout",
     "output_type": "stream",
     "text": [
      "171\n"
     ]
    }
   ],
   "source": [
    "# örnek problem çözümü  \n",
    "from datetime import datetime\n",
    "pazar_sayisi = 0\n",
    "for yil in range(1901,2001):\n",
    "    for ay in range(1,13):\n",
    "        if datetime(yil,ay,1).weekday() == 6:\n",
    "            pazar_sayisi +=1\n",
    "print(pazar_sayisi)"
   ]
  }
 ],
 "metadata": {
  "kernelspec": {
   "display_name": "Python 3",
   "language": "python",
   "name": "python3"
  },
  "language_info": {
   "codemirror_mode": {
    "name": "ipython",
    "version": 3
   },
   "file_extension": ".py",
   "mimetype": "text/x-python",
   "name": "python",
   "nbconvert_exporter": "python",
   "pygments_lexer": "ipython3",
   "version": "3.11.1"
  },
  "orig_nbformat": 4
 },
 "nbformat": 4,
 "nbformat_minor": 2
}
