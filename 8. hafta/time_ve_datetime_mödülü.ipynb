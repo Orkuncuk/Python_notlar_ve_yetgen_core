{
 "cells": [
  {
   "cell_type": "code",
   "execution_count": 1,
   "metadata": {},
   "outputs": [
    {
     "name": "stdout",
     "output_type": "stream",
     "text": [
      "0.7653493881225586\n"
     ]
    }
   ],
   "source": [
    "import time\n",
    "önce = time.time() # 1970 den beri geçen zaman\n",
    "liste = []\n",
    "for i in range(10000000):\n",
    "    liste.append(i)\n",
    "sonra = time.time()\n",
    "print(sonra - önce)\n"
   ]
  },
  {
   "cell_type": "code",
   "execution_count": 14,
   "metadata": {},
   "outputs": [
    {
     "name": "stdout",
     "output_type": "stream",
     "text": [
      "Thu Apr 13 17:59:32 2023\n",
      "time.struct_time(tm_year=2023, tm_mon=4, tm_mday=13, tm_hour=17, tm_min=59, tm_sec=32, tm_wday=3, tm_yday=103, tm_isdst=0)\n",
      "Sat Mar  3 12:46:40 1973\n",
      "13-04-2023 17:59:32\n"
     ]
    }
   ],
   "source": [
    "zaman1 = time.ctime() # içine saniye cinsinden değer alır ve girilen değer 1970'den başlar\n",
    "print(zaman1)\n",
    "zaman2 = time.localtime() # bu da saniye cinsinden değer alır\n",
    "print(zaman2)\n",
    "örnek_zaman = time.localtime(100000000)\n",
    "zaman3 = time.asctime(örnek_zaman) # bu ise tuprle veya localtime gibi değerlr alır\n",
    "print(zaman3)\n",
    "zaman4 = time.strftime(\"%d-%m-%Y %H:%M:%S\") # istediğin formatta zaman girebilmeni sağlar\n",
    "print(zaman4)"
   ]
  },
  {
   "cell_type": "code",
   "execution_count": 15,
   "metadata": {},
   "outputs": [
    {
     "name": "stdout",
     "output_type": "stream",
     "text": [
      "program başladı\n",
      "program sonlandı\n"
     ]
    }
   ],
   "source": [
    "print(\"program başladı\")\n",
    "time.sleep(3) # saniye cinsinden değer alır\n",
    "print(\"program sonlandı\")"
   ]
  }
 ],
 "metadata": {
  "kernelspec": {
   "display_name": "Python 3",
   "language": "python",
   "name": "python3"
  },
  "language_info": {
   "codemirror_mode": {
    "name": "ipython",
    "version": 3
   },
   "file_extension": ".py",
   "mimetype": "text/x-python",
   "name": "python",
   "nbconvert_exporter": "python",
   "pygments_lexer": "ipython3",
   "version": "3.11.1"
  },
  "orig_nbformat": 4
 },
 "nbformat": 4,
 "nbformat_minor": 2
}
