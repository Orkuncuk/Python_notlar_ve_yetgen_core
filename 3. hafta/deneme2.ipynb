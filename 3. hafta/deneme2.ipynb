{
 "cells": [
  {
   "cell_type": "code",
   "execution_count": 11,
   "metadata": {},
   "outputs": [
    {
     "name": "stdout",
     "output_type": "stream",
     "text": [
      "4! = 24\n"
     ]
    }
   ],
   "source": [
    "sayi = int(input(\"bir sayı giriniz :\"))\n",
    "faktoriyel = 1\n",
    "for i in range(1, sayi +1 ):\n",
    "    faktoriyel *= i\n",
    "print(f\"{sayi}! = {faktoriyel}\")"
   ]
  },
  {
   "cell_type": "code",
   "execution_count": 20,
   "metadata": {},
   "outputs": [
    {
     "name": "stdout",
     "output_type": "stream",
     "text": [
      "24\n"
     ]
    }
   ],
   "source": [
    "sayi = int(input(\"bir sayı giriniz :\"))\n",
    "faktoriyel = 1\n",
    "i = 2\n",
    "while i <= sayi:\n",
    "    faktoriyel *= i\n",
    "    i += 1\n",
    "print(faktoriyel)"
   ]
  },
  {
   "cell_type": "code",
   "execution_count": 26,
   "metadata": {},
   "outputs": [
    {
     "name": "stdout",
     "output_type": "stream",
     "text": [
      "15 sayınız asal değildir.\n"
     ]
    }
   ],
   "source": [
    "i = int(input(\"bir sayı girniz :\"))\n",
    "if i % 2 != 0 and i % 3 != 0:\n",
    "    print(f\"{i} sayısınız asaldır\")\n",
    "else:\n",
    "    print(f\"{i} sayınız asal değildir.\")\n",
    "# bozuk kod"
   ]
  },
  {
   "cell_type": "code",
   "execution_count": 71,
   "metadata": {},
   "outputs": [
    {
     "name": "stdout",
     "output_type": "stream",
     "text": [
      "asaldır\n"
     ]
    }
   ],
   "source": [
    "sayi = int(input(\"bir sayı girniz :\"))\n",
    "x = True\n",
    "for i in range(2,sayi):\n",
    "    if sayi % i == 0:\n",
    "        x = False\n",
    "        break\n",
    "if x == True:\n",
    "    print(\"asaldır\")\n",
    "else:\n",
    "    print(\"asal değildir\")"
   ]
  }
 ],
 "metadata": {
  "kernelspec": {
   "display_name": "Python 3",
   "language": "python",
   "name": "python3"
  },
  "language_info": {
   "codemirror_mode": {
    "name": "ipython",
    "version": 3
   },
   "file_extension": ".py",
   "mimetype": "text/x-python",
   "name": "python",
   "nbconvert_exporter": "python",
   "pygments_lexer": "ipython3",
   "version": "3.11.1"
  },
  "orig_nbformat": 4
 },
 "nbformat": 4,
 "nbformat_minor": 2
}
