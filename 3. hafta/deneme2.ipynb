{
 "cells": [
  {
   "cell_type": "code",
   "execution_count": 11,
   "metadata": {},
   "outputs": [
    {
     "name": "stdout",
     "output_type": "stream",
     "text": [
      "4! = 24\n"
     ]
    }
   ],
   "source": [
    "sayi = int(input(\"bir sayı giriniz :\"))\n",
    "faktoriyel = 1\n",
    "for i in range(1, sayi +1 ):\n",
    "    faktoriyel *= i\n",
    "print(f\"{sayi}! = {faktoriyel}\")"
   ]
  },
  {
   "cell_type": "code",
   "execution_count": 20,
   "metadata": {},
   "outputs": [
    {
     "name": "stdout",
     "output_type": "stream",
     "text": [
      "24\n"
     ]
    }
   ],
   "source": [
    "sayi = int(input(\"bir sayı giriniz :\"))\n",
    "faktoriyel = 1\n",
    "i = 2\n",
    "while i <= sayi:\n",
    "    faktoriyel *= i\n",
    "    i += 1\n",
    "print(faktoriyel)"
   ]
  },
  {
   "cell_type": "code",
   "execution_count": 26,
   "metadata": {},
   "outputs": [
    {
     "name": "stdout",
     "output_type": "stream",
     "text": [
      "15 sayınız asal değildir.\n"
     ]
    }
   ],
   "source": [
    "i = int(input(\"bir sayı girniz :\"))\n",
    "if i % 2 != 0 and i % 3 != 0:\n",
    "    print(f\"{i} sayısınız asaldır\")\n",
    "else:\n",
    "    print(f\"{i} sayınız asal değildir.\")\n",
    "# bozuk kod"
   ]
  },
  {
   "cell_type": "code",
   "execution_count": 73,
   "metadata": {},
   "outputs": [
    {
     "name": "stdout",
     "output_type": "stream",
     "text": [
      "asaldır\n"
     ]
    }
   ],
   "source": [
    "sayi = int(input(\"bir sayı girniz :\"))\n",
    "x = True\n",
    "for i in range(2,sayi):\n",
    "    if sayi % i == 0:\n",
    "        x = False\n",
    "        break\n",
    "if x == True:\n",
    "    print(\"asaldır\")\n",
    "else:\n",
    "    print(\"asal değildir\")"
   ]
  },
  {
   "cell_type": "code",
   "execution_count": 82,
   "metadata": {},
   "outputs": [
    {
     "name": "stdout",
     "output_type": "stream",
     "text": [
      "2\n"
     ]
    }
   ],
   "source": [
    "# bir sayının pozitif kaç tane bölenş olduğumu bulan bir program.\n",
    "sayi = int(input(\"bir sayı girniz :\"))\n",
    "bolen_sayisi = 0\n",
    "for i in range(1, sayi + 1):\n",
    "    if sayi % i == 0:\n",
    "        bolen_sayisi += 1\n",
    "print(bolen_sayisi)"
   ]
  },
  {
   "cell_type": "code",
   "execution_count": 103,
   "metadata": {},
   "outputs": [
    {
     "name": "stdout",
     "output_type": "stream",
     "text": [
      "45\n",
      "45\n"
     ]
    }
   ],
   "source": [
    "sayi = int(input(\"bir sayı girniz :\"))\n",
    "sayi1 = str(sayi)\n",
    "toplam = 0\n",
    "toplam2 = 0\n",
    "for i in sayi1:\n",
    "    toplam += int(i)\n",
    "print(toplam)\n",
    "gecici_sayi = sayi\n",
    "while gecici_sayi != 0:\n",
    "    basamak = gecici_sayi % 10\n",
    "    toplam2 += basamak\n",
    "    gecici_sayi //= 10\n",
    "print(toplam2)\n"
   ]
  },
  {
   "cell_type": "code",
   "execution_count": 119,
   "metadata": {},
   "outputs": [
    {
     "name": "stdout",
     "output_type": "stream",
     "text": [
      "min = 30, max = 200\n"
     ]
    }
   ],
   "source": [
    "liste = []\n",
    "for i in range(5):\n",
    "    sayi = int(input(\"bir sayı girniz :\"))\n",
    "    liste.append(sayi)\n",
    "print(f\"min = {min(liste)}, max = {max(liste)}\")"
   ]
  },
  {
   "cell_type": "code",
   "execution_count": 118,
   "metadata": {},
   "outputs": [
    {
     "name": "stdout",
     "output_type": "stream",
     "text": [
      "tam karesi var\n"
     ]
    }
   ],
   "source": [
    "sayi = int(input(\"bir sayı girniz :\"))\n",
    "a = int(sayi**(1/2))\n",
    "if a**2 == sayi:\n",
    "    print(\"tam karesi var\")\n",
    "else:\n",
    "    print(\"möö\")"
   ]
  },
  {
   "cell_type": "code",
   "execution_count": 123,
   "metadata": {},
   "outputs": [
    {
     "name": "stdout",
     "output_type": "stream",
     "text": [
      "L 1\n",
      "o 1\n",
      "r 1\n",
      "e 1\n",
      "m 5\n",
      "  4\n",
      "I 1\n",
      "p 2\n",
      "s 3\n",
      "u 2\n",
      "i 2\n",
      "l 1\n",
      "y 2\n",
      "d 1\n"
     ]
    }
   ],
   "source": [
    "a = input(\"bir şeyler yazınız\")\n",
    "sözluk = dict()\n",
    "for harf in a:\n",
    "    if harf in sözluk:\n",
    "        sözluk[harf] += 1\n",
    "    else:\n",
    "        sözluk[harf] = 1\n",
    "for harf,adet in sözluk.items():\n",
    "    print(harf,adet)"
   ]
  },
  {
   "cell_type": "code",
   "execution_count": 2,
   "metadata": {},
   "outputs": [
    {
     "name": "stdout",
     "output_type": "stream",
     "text": [
      "It wAs populArised in the 1960s with the releAse of LetrAset sheets contAining Lorem Ipsum pAssAges\n"
     ]
    }
   ],
   "source": [
    "metin = input(\"bir metin giriniz :\")\n",
    "metin2 = \"\"\n",
    "for i in metin:\n",
    "    if \"a\" != i:\n",
    "        metin2 += i\n",
    "    elif \"a\" == i:\n",
    "        metin2 += \"A\"\n",
    "print(metin2)\n",
    "# It was popularised in the 1960s with the release of Letraset sheets containing Lorem Ipsum passages\n",
    "# yukarıda girdiğim metin"
   ]
  },
  {
   "cell_type": "code",
   "execution_count": 8,
   "metadata": {},
   "outputs": [
    {
     "name": "stdout",
     "output_type": "stream",
     "text": [
      "21 yıl 2 ay ve 70 gün yaşındasınız\n"
     ]
    }
   ],
   "source": [
    "yil = int(input(\" doğum yılınızı giriniz :\"))\n",
    "ay = input(\" doğum ayınızı giriniz :\")\n",
    "gün = int(input(\" doğum gününüzü giriniz :\"))\n",
    "liste = [\"ocak\", \"şubat\", \"mart\", \"nisan\", \"mayıs\", \"haziran\", \"temmuz\", \"aguştos\", \"eylül\", \"ekim\", \"kasım\", \"aralık\"]\n",
    "bugün_ay = 3\n",
    "bugün_gün = 9\n",
    "dogum_yili = 2023 - yil\n",
    "if \n",
    "    print(f\"{dogum_yili - 1} yıl {liste.index(ay)} ay ve {gün} gün yaşındasınız\")\n",
    "else:\n",
    "print(f\"{dogum_yili} yıl {liste.index(ay)}} ay ve {dogum_günü} gün yaşındasınız\")\n",
    "\n",
    "\n"
   ]
  },
  {
   "cell_type": "code",
   "execution_count": 6,
   "metadata": {},
   "outputs": [
    {
     "name": "stdout",
     "output_type": "stream",
     "text": [
      "6\n"
     ]
    }
   ],
   "source": [
    "ay = input(\" doğum ayınızı giriniz :\")\n",
    "ay_düzenli = ay.lower()\n",
    "sözlük = {\"ocak\": 1, \"şubat\": 2, \"mart\": 3, \"nisan\": 4, \"mayıs\": 5, \"haziran\": 6, \"temmuz\": 7, \"ağustos\": 8, \"eylül\": 9, \"ekim\": 10, \"kasım\": 11, \"aralık\": 12}\n",
    "if ay in sözlük:\n",
    "    dogum_ay = sözlük[ay]\n",
    "print(dogum_ay)\n",
    "dogum_günü = (dogum_ay * 30) + gün # aylar 30 olarak alındı"
   ]
  },
  {
   "cell_type": "code",
   "execution_count": 108,
   "metadata": {},
   "outputs": [
    {
     "name": "stdout",
     "output_type": "stream",
     "text": [
      "Yaşınız: 20 yaşındasınız.\n",
      "7611 days, 20:56:54.761950\n",
      "5\n",
      "306\n",
      "10\n",
      "2\n"
     ]
    }
   ],
   "source": [
    "from datetime import datetime\n",
    "\n",
    "dogum_gunu = input(\"Doğum gününüz (yyyy-mm-dd): \")\n",
    "\n",
    "bugun = datetime.today()\n",
    "\n",
    "dogum_gunu_dt = datetime.strptime(dogum_gunu, '%Y-%m-%d')\n",
    "\n",
    "yas = bugun.year - dogum_gunu_dt.year - ((bugun.month, bugun.day) < (dogum_gunu_dt.month, dogum_gunu_dt.day))\n",
    "\n",
    "print(\"Yaşınız:\", yas, \"yaşındasınız.\")\n",
    "toplam_gun = bugun - dogum_gunu_dt\n",
    "\n",
    "toplam = 0\n",
    "for i in range(dogum_gunu_dt.year, bugun.year):\n",
    "    if (i % 100 != 0 and i % 4 == 0) or i % 400 == 0:\n",
    "        toplam += 1\n",
    "\n",
    "toplam2 = 0\n",
    "list = [1,0,1,0,1,0,1,1,0,1,0,1]\n",
    "for i in list[dogum_gunu_dt.month:]:\n",
    "    if i == 1:\n",
    "        toplam2 +=1\n",
    "\n",
    "kalan_gun = ((int(toplam_gun.days) %  365) - toplam)\n",
    "kalan_gun2 = kalan_gun % 30\n",
    "\n",
    "\n",
    "\n",
    "kalan_ay = kalan_gun // 30\n",
    "\n",
    "print(toplam_gun)\n",
    "print(toplam)\n",
    "print(kalan_gun)\n",
    "print(kalan_ay)\n",
    "print(kalan_gun2 - toplam2)"
   ]
  },
  {
   "cell_type": "code",
   "execution_count": 47,
   "metadata": {},
   "outputs": [
    {
     "name": "stdout",
     "output_type": "stream",
     "text": [
      "Today's date = 2023-03-12\n"
     ]
    }
   ],
   "source": [
    "from datetime import date\n",
    "\n",
    "# today() to get current date\n",
    "todays_date = date.today()\n",
    "\n",
    "print(\"Today's date =\", todays_date)"
   ]
  },
  {
   "cell_type": "code",
   "execution_count": 80,
   "metadata": {},
   "outputs": [
    {
     "name": "stdout",
     "output_type": "stream",
     "text": [
      " 2000 artık yıldır\n"
     ]
    }
   ],
   "source": [
    "a = int(input(\"yıl girniz\"))\n",
    "if (a % 100 != 0 and a % 4 == 0) or a % 400 == 0:\n",
    "    print(f\" {a} artık yıldır\")\n",
    "else: \n",
    "    print(\"değil\")"
   ]
  },
  {
   "cell_type": "code",
   "execution_count": 107,
   "metadata": {},
   "outputs": [
    {
     "name": "stdout",
     "output_type": "stream",
     "text": [
      "0\n",
      "1\n",
      "1\n",
      "0\n",
      "1\n",
      "0\n",
      "1\n"
     ]
    }
   ],
   "source": [
    "a ={\"1\":1, \"2\":0, \"3\": 1, \"4\": 0, \"5\": 1, \"6\":0, \"7\":1, \"8\":1, \"9\":0, \"10\":1, \"11\":0, \"12\":1}\n",
    "toplam2 = 0\n",
    "list = [1,0,1,0,1,0,1,1,0,1,0,1]\n",
    "for i in list[dogum_gunu_dt.month:]:\n",
    "    if i == 1:\n",
    "        toplam2 +=1"
   ]
  }
 ],
 "metadata": {
  "kernelspec": {
   "display_name": "Python 3",
   "language": "python",
   "name": "python3"
  },
  "language_info": {
   "codemirror_mode": {
    "name": "ipython",
    "version": 3
   },
   "file_extension": ".py",
   "mimetype": "text/x-python",
   "name": "python",
   "nbconvert_exporter": "python",
   "pygments_lexer": "ipython3",
   "version": "3.11.1"
  },
  "orig_nbformat": 4
 },
 "nbformat": 4,
 "nbformat_minor": 2
}
