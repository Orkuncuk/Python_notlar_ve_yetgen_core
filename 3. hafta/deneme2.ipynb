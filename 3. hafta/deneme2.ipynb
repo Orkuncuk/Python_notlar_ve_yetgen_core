{
 "cells": [
  {
   "cell_type": "code",
   "execution_count": 11,
   "metadata": {},
   "outputs": [
    {
     "name": "stdout",
     "output_type": "stream",
     "text": [
      "4! = 24\n"
     ]
    }
   ],
   "source": [
    "sayi = int(input(\"bir sayı giriniz :\"))\n",
    "faktoriyel = 1\n",
    "for i in range(1, sayi +1 ):\n",
    "    faktoriyel *= i\n",
    "print(f\"{sayi}! = {faktoriyel}\")"
   ]
  },
  {
   "cell_type": "code",
   "execution_count": 20,
   "metadata": {},
   "outputs": [
    {
     "name": "stdout",
     "output_type": "stream",
     "text": [
      "24\n"
     ]
    }
   ],
   "source": [
    "sayi = int(input(\"bir sayı giriniz :\"))\n",
    "faktoriyel = 1\n",
    "i = 2\n",
    "while i <= sayi:\n",
    "    faktoriyel *= i\n",
    "    i += 1\n",
    "print(faktoriyel)"
   ]
  },
  {
   "cell_type": "code",
   "execution_count": 26,
   "metadata": {},
   "outputs": [
    {
     "name": "stdout",
     "output_type": "stream",
     "text": [
      "15 sayınız asal değildir.\n"
     ]
    }
   ],
   "source": [
    "i = int(input(\"bir sayı girniz :\"))\n",
    "if i % 2 != 0 and i % 3 != 0:\n",
    "    print(f\"{i} sayısınız asaldır\")\n",
    "else:\n",
    "    print(f\"{i} sayınız asal değildir.\")\n",
    "# bozuk kod"
   ]
  },
  {
   "cell_type": "code",
   "execution_count": 73,
   "metadata": {},
   "outputs": [
    {
     "name": "stdout",
     "output_type": "stream",
     "text": [
      "asaldır\n"
     ]
    }
   ],
   "source": [
    "sayi = int(input(\"bir sayı girniz :\"))\n",
    "x = True\n",
    "for i in range(2,sayi):\n",
    "    if sayi % i == 0:\n",
    "        x = False\n",
    "        break\n",
    "if x == True:\n",
    "    print(\"asaldır\")\n",
    "else:\n",
    "    print(\"asal değildir\")"
   ]
  },
  {
   "cell_type": "code",
   "execution_count": 82,
   "metadata": {},
   "outputs": [
    {
     "name": "stdout",
     "output_type": "stream",
     "text": [
      "2\n"
     ]
    }
   ],
   "source": [
    "# bir sayının pozitif kaç tane bölenş olduğumu bulan bir program.\n",
    "sayi = int(input(\"bir sayı girniz :\"))\n",
    "bolen_sayisi = 0\n",
    "for i in range(1, sayi + 1):\n",
    "    if sayi % i == 0:\n",
    "        bolen_sayisi += 1\n",
    "print(bolen_sayisi)"
   ]
  },
  {
   "cell_type": "code",
   "execution_count": 103,
   "metadata": {},
   "outputs": [
    {
     "name": "stdout",
     "output_type": "stream",
     "text": [
      "45\n",
      "45\n"
     ]
    }
   ],
   "source": [
    "sayi = int(input(\"bir sayı girniz :\"))\n",
    "sayi1 = str(sayi)\n",
    "toplam = 0\n",
    "toplam2 = 0\n",
    "for i in sayi1:\n",
    "    toplam += int(i)\n",
    "print(toplam)\n",
    "gecici_sayi = sayi\n",
    "while gecici_sayi != 0:\n",
    "    basamak = gecici_sayi % 10\n",
    "    toplam2 += basamak\n",
    "    gecici_sayi //= 10\n",
    "print(toplam2)\n"
   ]
  },
  {
   "cell_type": "code",
   "execution_count": 119,
   "metadata": {},
   "outputs": [
    {
     "name": "stdout",
     "output_type": "stream",
     "text": [
      "min = 30, max = 200\n"
     ]
    }
   ],
   "source": [
    "liste = []\n",
    "for i in range(5):\n",
    "    sayi = int(input(\"bir sayı girniz :\"))\n",
    "    liste.append(sayi)\n",
    "print(f\"min = {min(liste)}, max = {max(liste)}\")"
   ]
  },
  {
   "cell_type": "code",
   "execution_count": 118,
   "metadata": {},
   "outputs": [
    {
     "name": "stdout",
     "output_type": "stream",
     "text": [
      "tam karesi var\n"
     ]
    }
   ],
   "source": [
    "sayi = int(input(\"bir sayı girniz :\"))\n",
    "a = int(sayi**(1/2))\n",
    "if a**2 == sayi:\n",
    "    print(\"tam karesi var\")\n",
    "else:\n",
    "    print(\"möö\")"
   ]
  },
  {
   "cell_type": "code",
   "execution_count": 123,
   "metadata": {},
   "outputs": [
    {
     "name": "stdout",
     "output_type": "stream",
     "text": [
      "L 1\n",
      "o 1\n",
      "r 1\n",
      "e 1\n",
      "m 5\n",
      "  4\n",
      "I 1\n",
      "p 2\n",
      "s 3\n",
      "u 2\n",
      "i 2\n",
      "l 1\n",
      "y 2\n",
      "d 1\n"
     ]
    }
   ],
   "source": [
    "a = input(\"bir şeyler yazınız\")\n",
    "sözluk = dict()\n",
    "for harf in a:\n",
    "    if harf in sözluk:\n",
    "        sözluk[harf] += 1\n",
    "    else:\n",
    "        sözluk[harf] = 1\n",
    "for harf,adet in sözluk.items():\n",
    "    print(harf,adet)"
   ]
  },
  {
   "cell_type": "code",
   "execution_count": 2,
   "metadata": {},
   "outputs": [
    {
     "name": "stdout",
     "output_type": "stream",
     "text": [
      "It wAs populArised in the 1960s with the releAse of LetrAset sheets contAining Lorem Ipsum pAssAges\n"
     ]
    }
   ],
   "source": [
    "metin = input(\"bir metin giriniz :\")\n",
    "metin2 = \"\"\n",
    "for i in metin:\n",
    "    if \"a\" != i:\n",
    "        metin2 += i\n",
    "    elif \"a\" == i:\n",
    "        metin2 += \"A\"\n",
    "print(metin2)\n",
    "# It was popularised in the 1960s with the release of Letraset sheets containing Lorem Ipsum passages\n",
    "# yukarıda girdiğim metin"
   ]
  },
  {
   "cell_type": "code",
   "execution_count": null,
   "metadata": {},
   "outputs": [],
   "source": [
    "yil = int(input(\" doğum yılınızı giriniz :\"))\n",
    "ay = int(input(\" doğum ayınızı giriniz :\"))\n",
    "ay_düzenli = ay.lower()\n",
    "sözlük = {\"ocak\": 1, \"şubat\": 2, \"mart\": 3, \"nisan\": 4, \"mayıs\": 5, \"haziran\": 6, \"temmuz\": 7, \"ağustos\": 8, \"eylül\": 9, \"ekim\": 10, \"kasım\": 11, \"aralık\": 12}\n",
    "for i in sözlük:\n",
    "    dogum_ay = sözlük[i]\n",
    "print(dogum_ay)\n",
    "gün = int(input(\" doğum gününüzü giriniz :\"))\n",
    "dogum_günü = \n",
    "print(f\"{dogum_yili} yıl {} ay ve {} gün yaşındasınız\")\n"
   ]
  },
  {
   "cell_type": "code",
   "execution_count": 5,
   "metadata": {},
   "outputs": [
    {
     "name": "stdout",
     "output_type": "stream",
     "text": [
      "2\n"
     ]
    }
   ],
   "source": [
    "ay = input(\" doğum ayınızı giriniz :\")\n",
    "ay_düzenli = ay.lower()\n",
    "sözlük = {\"ocak\": 1, \"şubat\": 2, \"mart\": 3, \"nisan\": 4, \"mayıs\": 5, \"haziran\": 6, \"temmuz\": 7, \"ağustos\": 8, \"eylül\": 9, \"ekim\": 10, \"kasım\": 11, \"aralık\": 12}\n",
    "if ay in sözlük:\n",
    "    dogum_ay = sözlük[ay]\n",
    "print(dogum_ay)\n"
   ]
  }
 ],
 "metadata": {
  "kernelspec": {
   "display_name": "Python 3",
   "language": "python",
   "name": "python3"
  },
  "language_info": {
   "codemirror_mode": {
    "name": "ipython",
    "version": 3
   },
   "file_extension": ".py",
   "mimetype": "text/x-python",
   "name": "python",
   "nbconvert_exporter": "python",
   "pygments_lexer": "ipython3",
   "version": "3.11.1"
  },
  "orig_nbformat": 4
 },
 "nbformat": 4,
 "nbformat_minor": 2
}
