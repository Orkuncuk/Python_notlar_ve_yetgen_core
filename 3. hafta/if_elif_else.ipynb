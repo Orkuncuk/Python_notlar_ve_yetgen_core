{
 "cells": [
  {
   "cell_type": "code",
   "execution_count": 22,
   "metadata": {},
   "outputs": [
    {
     "name": "stdout",
     "output_type": "stream",
     "text": [
      "c = d\n"
     ]
    }
   ],
   "source": [
    "a = 10\n",
    "b = 5\n",
    "if a == b:\n",
    "    print(\" a = b\")\n",
    "c = 8\n",
    "d = 8\n",
    "if c == d:\n",
    "    print(\"c = d\")"
   ]
  },
  {
   "cell_type": "code",
   "execution_count": 23,
   "metadata": {},
   "outputs": [
    {
     "name": "stdout",
     "output_type": "stream",
     "text": [
      "a != b\n"
     ]
    }
   ],
   "source": [
    "a = 10\n",
    "b = 5\n",
    "if a == b:\n",
    "    print(\"a = b\")\n",
    "else:\n",
    "    print(\"a != b\")\n"
   ]
  },
  {
   "cell_type": "code",
   "execution_count": 30,
   "metadata": {},
   "outputs": [
    {
     "name": "stdout",
     "output_type": "stream",
     "text": [
      "siyah\n"
     ]
    }
   ],
   "source": [
    "renk = input(\"bir renk giriniz :\")\n",
    "if renk == \"beyaz\":\n",
    "    print(\"beyaz\")\n",
    "elif renk == \"siyah\":\n",
    "    print(\"siyah\")\n",
    "elif renk == \"sarı\":\n",
    "    print(\"sarı\")\n",
    "else:\n",
    "    print(\"hiçbiri\")"
   ]
  },
  {
   "cell_type": "code",
   "execution_count": 2,
   "metadata": {},
   "outputs": [
    {
     "name": "stdout",
     "output_type": "stream",
     "text": [
      "koşul doğru\n",
      "koşul yanlış\n"
     ]
    }
   ],
   "source": [
    "a = 5\n",
    "b = 8\n",
    "c = 10\n",
    "if a < b or b == c:\n",
    "    print(\"koşul doğru\")\n",
    "else:\n",
    "    print(\"koşul yanlış\")\n",
    "if a > b and b < c:\n",
    "    print(\"koşul doğru\")\n",
    "else:\n",
    "    print(\"koşul yanlış\")"
   ]
  },
  {
   "cell_type": "code",
   "execution_count": 9,
   "metadata": {},
   "outputs": [
    {
     "name": "stdout",
     "output_type": "stream",
     "text": [
      "var\n",
      "mevcut\n",
      "koşul yanlış\n"
     ]
    }
   ],
   "source": [
    "liste = [1,2,3,4,5] \n",
    "if 4 in liste:\n",
    "    print(\"var\")\n",
    "else:\n",
    "    print(\"yok\")\n",
    "isim = \"orkun\"\n",
    "if \"o\" in isim:\n",
    "    print(\"mevcut\")\n",
    "else:\n",
    "    print(\"mevcur değil\")\n",
    "# in anahtar kelimesi küme, demet, string ile kullanılabilir.\n",
    "a = 5 \n",
    "b = 8\n",
    "if not a == b:\n",
    "    print(\"koşul yanlış\")\n",
    "else:\n",
    "    print(\"koşul doğru\")"
   ]
  },
  {
   "cell_type": "code",
   "execution_count": 11,
   "metadata": {},
   "outputs": [
    {
     "name": "stdout",
     "output_type": "stream",
     "text": [
      "a == b\n",
      "a != b\n"
     ]
    }
   ],
   "source": [
    "a =\"python\"\n",
    "b = \"pytho\"\n",
    "b += \"n\"\n",
    "if a == b:\n",
    "    print(\"a == b\")\n",
    "else:\n",
    "    print(\"a != b\")\n",
    "if a is b: # a ile b aynı şey değil aynı değeri taşıyan farklı değişkenler.\n",
    "    print(\"a == b\")\n",
    "else:\n",
    "    print(\"a != b\")"
   ]
  }
 ],
 "metadata": {
  "kernelspec": {
   "display_name": "Python 3",
   "language": "python",
   "name": "python3"
  },
  "language_info": {
   "codemirror_mode": {
    "name": "ipython",
    "version": 3
   },
   "file_extension": ".py",
   "mimetype": "text/x-python",
   "name": "python",
   "nbconvert_exporter": "python",
   "pygments_lexer": "ipython3",
   "version": "3.11.1"
  },
  "orig_nbformat": 4,
  "vscode": {
   "interpreter": {
    "hash": "5ffd7eb2cebf9ac436b5021ba01877e9cee6b03524e01bf8c8637d3e64111215"
   }
  }
 },
 "nbformat": 4,
 "nbformat_minor": 2
}
