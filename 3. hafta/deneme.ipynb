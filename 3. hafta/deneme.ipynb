{
 "cells": [
  {
   "cell_type": "code",
   "execution_count": 19,
   "metadata": {},
   "outputs": [
    {
     "name": "stdout",
     "output_type": "stream",
     "text": [
      "I have heard that turkey is a beatiful country.\n"
     ]
    }
   ],
   "source": [
    "x = input(\"what country are you from?\")\n",
    "print(\"I have heard that {} is a beatiful country.\".format(x))"
   ]
  },
  {
   "cell_type": "code",
   "execution_count": null,
   "metadata": {},
   "outputs": [],
   "source": []
  },
  {
   "cell_type": "code",
   "execution_count": 24,
   "metadata": {},
   "outputs": [
    {
     "name": "stdout",
     "output_type": "stream",
     "text": [
      "Weird\n"
     ]
    }
   ],
   "source": [
    "n = int(input(\"bir sayi giriniz :\"))\n",
    "if 1 < n < 101 and not n % 2 == 0:\n",
    "    print(\"Weird\")\n",
    "elif 1 < n < 6 and n % 2 == 0:\n",
    "    print(\"Not Weird\")\n",
    "elif 5 < n < 21 and n % 2 == 0:\n",
    "    print(\"Weird\")\n",
    "elif 20 < n < 101 and n % 2 == 0:\n",
    "    print(\"Not Weird\")\n",
    "\n"
   ]
  },
  {
   "cell_type": "code",
   "execution_count": 11,
   "metadata": {},
   "outputs": [
    {
     "name": "stdout",
     "output_type": "stream",
     "text": [
      "8\n",
      "-2\n",
      "15\n"
     ]
    }
   ],
   "source": [
    "a = int(input(\"bir sayi giriniz :\"))\n",
    "b = int(input(\"bir sayi giriniz :\"))    \n",
    "if 1 <= a <= 10**10 and 1 <= b <= 10**10:\n",
    "    print(a + b)\n",
    "    print(a - b)\n",
    "    print(a * b)"
   ]
  },
  {
   "cell_type": "code",
   "execution_count": 11,
   "metadata": {},
   "outputs": [
    {
     "name": "stdout",
     "output_type": "stream",
     "text": [
      "16\n",
      "9\n",
      "4\n",
      "1\n",
      "0\n"
     ]
    }
   ],
   "source": [
    "n = int(input(\"\"))\n",
    "while True:\n",
    "    print(n**2)\n",
    "    n -= 1\n",
    "    if n < 0 or n >= 11:\n",
    "        break"
   ]
  },
  {
   "cell_type": "code",
   "execution_count": 29,
   "metadata": {},
   "outputs": [],
   "source": [
    "x=int(input())\n",
    "num=0\n",
    "for i in range(x):\n",
    "     if x < 0 or 20 < x:\n",
    "          break\n",
    "     print(num**2)\n",
    "     num+=1\n",
    "     "
   ]
  },
  {
   "cell_type": "code",
   "execution_count": 31,
   "metadata": {},
   "outputs": [
    {
     "name": "stdout",
     "output_type": "stream",
     "text": [
      "0\n",
      "1\n",
      "4\n"
     ]
    }
   ],
   "source": [
    "x=int(input())\n",
    "num=0\n",
    "while 0 <= x <= 20:\n",
    "    print(num**2)\n",
    "    num += 1\n",
    "    if num == x:\n",
    "        break\n"
   ]
  }
 ],
 "metadata": {
  "kernelspec": {
   "display_name": "Python 3",
   "language": "python",
   "name": "python3"
  },
  "language_info": {
   "codemirror_mode": {
    "name": "ipython",
    "version": 3
   },
   "file_extension": ".py",
   "mimetype": "text/x-python",
   "name": "python",
   "nbconvert_exporter": "python",
   "pygments_lexer": "ipython3",
   "version": "3.11.1"
  },
  "orig_nbformat": 4,
  "vscode": {
   "interpreter": {
    "hash": "5ffd7eb2cebf9ac436b5021ba01877e9cee6b03524e01bf8c8637d3e64111215"
   }
  }
 },
 "nbformat": 4,
 "nbformat_minor": 2
}
