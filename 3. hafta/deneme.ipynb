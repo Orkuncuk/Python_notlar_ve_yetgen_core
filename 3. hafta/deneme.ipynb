{
 "cells": [
  {
   "cell_type": "code",
   "execution_count": 24,
   "metadata": {},
   "outputs": [
    {
     "name": "stdout",
     "output_type": "stream",
     "text": [
      "Weird\n"
     ]
    }
   ],
   "source": [
    "n = int(input(\"bir sayi giriniz :\"))\n",
    "if 1 < n < 101 and not n % 2 == 0:\n",
    "    print(\"Weird\")\n",
    "elif 1 < n < 6 and n % 2 == 0:\n",
    "    print(\"Not Weird\")\n",
    "elif 5 < n < 21 and n % 2 == 0:\n",
    "    print(\"Weird\")\n",
    "elif 20 < n < 101 and n % 2 == 0:\n",
    "    print(\"Not Weird\")\n",
    "\n"
   ]
  },
  {
   "cell_type": "code",
   "execution_count": 11,
   "metadata": {},
   "outputs": [
    {
     "name": "stdout",
     "output_type": "stream",
     "text": [
      "8\n",
      "-2\n",
      "15\n"
     ]
    }
   ],
   "source": [
    "a = int(input(\"bir sayi giriniz :\"))\n",
    "b = int(input(\"bir sayi giriniz :\"))    \n",
    "if 1 <= a <= 10**10 and 1 <= b <= 10**10:\n",
    "    print(a + b)\n",
    "    print(a - b)\n",
    "    print(a * b)"
   ]
  },
  {
   "cell_type": "code",
   "execution_count": 6,
   "metadata": {},
   "outputs": [
    {
     "name": "stdout",
     "output_type": "stream",
     "text": [
      "9\n",
      "4\n",
      "1\n",
      "0\n"
     ]
    }
   ],
   "source": [
    "n = int(input(\"\"))\n",
    "while True:\n",
    "    print(n**2)\n",
    "    n -= 1\n",
    "    if n < 0 or n >= 11:\n",
    "        break"
   ]
  }
 ],
 "metadata": {
  "kernelspec": {
   "display_name": "Python 3",
   "language": "python",
   "name": "python3"
  },
  "language_info": {
   "codemirror_mode": {
    "name": "ipython",
    "version": 3
   },
   "file_extension": ".py",
   "mimetype": "text/x-python",
   "name": "python",
   "nbconvert_exporter": "python",
   "pygments_lexer": "ipython3",
   "version": "3.11.1"
  },
  "orig_nbformat": 4,
  "vscode": {
   "interpreter": {
    "hash": "5ffd7eb2cebf9ac436b5021ba01877e9cee6b03524e01bf8c8637d3e64111215"
   }
  }
 },
 "nbformat": 4,
 "nbformat_minor": 2
}
