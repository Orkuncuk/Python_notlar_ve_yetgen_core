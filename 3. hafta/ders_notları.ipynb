{
 "cells": [
  {
   "cell_type": "code",
   "execution_count": null,
   "metadata": {},
   "outputs": [],
   "source": [
    "# karşılaştırma oparoterleri\n",
    "# \"=\" atama oparetörüdür. \n",
    "# \"==\" iki değerin birbirine işt olup olmadığını kontrol eder.\n",
    "# \"!=\" iki değer birbirine eşit değilse True esit ise false değerini döndürür.\n",
    "# < küçükitr , > büyüktür, <= küçük eşit, >= büyük eşit."
   ]
  },
  {
   "cell_type": "code",
   "execution_count": null,
   "metadata": {},
   "outputs": [],
   "source": [
    "# mantıksal oparetörler.\n",
    "# true \"and\" true = true [ açıkcası bunun dşışındaki hepsinde false dödürüyor yazmak istemedim.]\n",
    "# false \"or\" false = false [ bu seferde bunun dışında hepsinde true döndürüyor.]"
   ]
  }
 ],
 "metadata": {
  "language_info": {
   "name": "python"
  },
  "orig_nbformat": 4
 },
 "nbformat": 4,
 "nbformat_minor": 2
}
