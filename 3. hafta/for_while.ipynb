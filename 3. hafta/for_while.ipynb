{
 "cells": [
  {
   "cell_type": "code",
   "execution_count": 17,
   "metadata": {},
   "outputs": [
    {
     "name": "stdout",
     "output_type": "stream",
     "text": [
      "1\n",
      "2\n",
      "3\n",
      "4\n",
      "5\n",
      "a\n",
      "h\n",
      "m\n",
      "e\n",
      "t\n"
     ]
    }
   ],
   "source": [
    "liste = [1,2,3,4,5]\n",
    "for rakam in liste:\n",
    "    print(rakam)\n",
    "isim = \"ahmet\"\n",
    "for harf in isim:\n",
    "    print(harf)\n",
    "\n"
   ]
  },
  {
   "cell_type": "code",
   "execution_count": 23,
   "metadata": {},
   "outputs": [
    {
     "name": "stdout",
     "output_type": "stream",
     "text": [
      "0\n",
      "2\n",
      "4\n",
      "6\n",
      "8\n"
     ]
    }
   ],
   "source": [
    "for i in range(0,10,2): # ilki dahil ikincisi değil, üçüncüsü aralık\n",
    "    print(i)"
   ]
  },
  {
   "cell_type": "code",
   "execution_count": 27,
   "metadata": {},
   "outputs": [
    {
     "name": "stdout",
     "output_type": "stream",
     "text": [
      "262144\n"
     ]
    }
   ],
   "source": [
    "sonuc = 1\n",
    "for i in range(0,18):\n",
    "    sonuc *= 2\n",
    "print(sonuc)"
   ]
  },
  {
   "cell_type": "code",
   "execution_count": 28,
   "metadata": {},
   "outputs": [
    {
     "name": "stdout",
     "output_type": "stream",
     "text": [
      "a 1\n",
      "a 2\n",
      "a 3\n",
      "b 1\n",
      "b 2\n",
      "b 3\n",
      "c 1\n",
      "c 2\n",
      "c 3\n"
     ]
    }
   ],
   "source": [
    "harf = [\"a\", \"b\", \"c\"]\n",
    "sayı =[1,2,3]\n",
    "for i in harf:\n",
    "    for a in sayı:\n",
    "        print(i,a) "
   ]
  },
  {
   "cell_type": "code",
   "execution_count": 32,
   "metadata": {},
   "outputs": [
    {
     "name": "stdout",
     "output_type": "stream",
     "text": [
      "1\n",
      "2\n",
      "4\n",
      "5\n",
      "6\n",
      "a\n",
      "b\n",
      "c\n"
     ]
    }
   ],
   "source": [
    "liste = [1,2,3,4,5,6]\n",
    "for i in liste:\n",
    "    if i == 3:\n",
    "        continue # 3 ü yazmadı ve döngüye devam etti. yani dögünün bir sonraki adımına bizi taşıyor.\n",
    "    print(i)\n",
    "liste2 = [\"a\",\"b\",\"c\",\"d\",\"e\"]\n",
    "for a in liste2:\n",
    "    if a == \"d\": # \"d\" den itibaren döngüyü kırdı.\n",
    "        break\n",
    "    print(a)"
   ]
  },
  {
   "cell_type": "code",
   "execution_count": 34,
   "metadata": {},
   "outputs": [
    {
     "name": "stdout",
     "output_type": "stream",
     "text": [
      "0\n",
      "3\n",
      "6\n",
      "9\n",
      "12\n",
      "15\n",
      "18\n"
     ]
    }
   ],
   "source": [
    "liste = range(30)\n",
    "for i in liste:\n",
    "    if i%3 != 0:\n",
    "        continue\n",
    "    if i == 21:\n",
    "        break\n",
    "    print(i)\n"
   ]
  }
 ],
 "metadata": {
  "kernelspec": {
   "display_name": "Python 3",
   "language": "python",
   "name": "python3"
  },
  "language_info": {
   "codemirror_mode": {
    "name": "ipython",
    "version": 3
   },
   "file_extension": ".py",
   "mimetype": "text/x-python",
   "name": "python",
   "nbconvert_exporter": "python",
   "pygments_lexer": "ipython3",
   "version": "3.11.1"
  },
  "orig_nbformat": 4,
  "vscode": {
   "interpreter": {
    "hash": "5ffd7eb2cebf9ac436b5021ba01877e9cee6b03524e01bf8c8637d3e64111215"
   }
  }
 },
 "nbformat": 4,
 "nbformat_minor": 2
}
