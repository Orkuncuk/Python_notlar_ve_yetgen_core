{
 "cells": [
  {
   "cell_type": "code",
   "execution_count": 1,
   "metadata": {},
   "outputs": [
    {
     "name": "stdout",
     "output_type": "stream",
     "text": [
      "31\n",
      "96\n",
      "6\n",
      "2.5\n",
      "25\n",
      "1\n",
      "2\n",
      "3\n"
     ]
    }
   ],
   "source": [
    "# introduction\n",
    "print(30 + 1)   # addition(+)\n",
    "print(99 - 3)   # subtraction(-)\n",
    "print(2 * 3)   # multiplication(*)\n",
    "print(5 / 2)   # division(/)\n",
    "print(5 ** 2)  # exponential(**)\n",
    "print(5 % 2)   # modulus(%)[bölme işlemindeki kalan = mod alma]\n",
    "print(5 // 2)  # Floor division operator(//)[ bölme işlemindeki bölüm = tam bölme]\n",
    "sayi = 22 / 7\n",
    "print(round(sayi)) # yuvarlama"
   ]
  },
  {
   "cell_type": "code",
   "execution_count": 6,
   "metadata": {},
   "outputs": [
    {
     "name": "stdout",
     "output_type": "stream",
     "text": [
      "True\n",
      "False\n",
      "True\n",
      "True\n",
      "False\n",
      "True\n"
     ]
    }
   ],
   "source": [
    "# karşılaştırma oparatörleri\n",
    "sayi1 = 5\n",
    "sayi2 = 7\n",
    "print( 3 == 3) # eşittir. TRUE ve FALSE değeri alabiliyor.\n",
    "print( sayi1 > sayi2) # büyüktür.\n",
    "print(sayi1 < sayi2) # küçüktür.\n",
    "print(sayi1 <= sayi2) # küçük eşittir.\n",
    "print(sayi1 >= sayi2) # büyük eşittir.\n",
    "print(sayi1 != sayi2) # eşit değildir. eşit olmadığı için TRUE dönderdi.\n"
   ]
  },
  {
   "cell_type": "code",
   "execution_count": 6,
   "metadata": {},
   "outputs": [
    {
     "name": "stdout",
     "output_type": "stream",
     "text": [
      "True\n",
      "False\n",
      "False\n",
      "True\n",
      "True\n",
      "False\n"
     ]
    }
   ],
   "source": [
    "# not logical operators\n",
    "print(3 > 2 and 2 < 3)\n",
    "print(3 > 2 and 2 > 3)\n",
    "print(3 < 2 and 2 > 3)\n",
    "\n",
    "print(3 > 2 or 2 < 3)\n",
    "print(3 > 2 or 2 > 3)\n",
    "print(3 < 2 or 2 > 3)"
   ]
  },
  {
   "cell_type": "code",
   "execution_count": 7,
   "metadata": {},
   "outputs": [
    {
     "name": "stdout",
     "output_type": "stream",
     "text": [
      "1\n"
     ]
    }
   ],
   "source": [
    "# not\n",
    "a = 1\n",
    "b = a # A 1'e eşitken ben B'yi A'ya eşitledim. Bundan dolayı daha sonra A'yı değiştirmiş olmam B'yi etkilemez.\n",
    "a = 5\n",
    "print(b) "
   ]
  },
  {
   "cell_type": "code",
   "execution_count": 11,
   "metadata": {},
   "outputs": [
    {
     "name": "stdout",
     "output_type": "stream",
     "text": [
      "ücgenin alanı: 12.5\n"
     ]
    }
   ],
   "source": [
    "# bir çalışma üçgen alanı\n",
    "h = int(input(\"yükseklik giriniz: \"))\n",
    "b = int(input(\"tabanı giriniz: \"))\n",
    "alan = (h*b)/2\n",
    "print(f\"ücgenin alanı: {alan}\")"
   ]
  },
  {
   "cell_type": "code",
   "execution_count": 14,
   "metadata": {},
   "outputs": [
    {
     "name": "stdout",
     "output_type": "stream",
     "text": [
      "alan: 12 cevre: 14\n"
     ]
    }
   ],
   "source": [
    "# başka bie çalışma\n",
    "w = int(input(\"genişlik giriniz: \"))\n",
    "h = int(input(\"yükseklik giriniz: \"))\n",
    "alan = w * h\n",
    "cevre = 2*(w + h)\n",
    "print(f\"alan: {alan} cevre: {cevre}\")"
   ]
  }
 ],
 "metadata": {
  "kernelspec": {
   "display_name": "Python 3",
   "language": "python",
   "name": "python3"
  },
  "language_info": {
   "codemirror_mode": {
    "name": "ipython",
    "version": 3
   },
   "file_extension": ".py",
   "mimetype": "text/x-python",
   "name": "python",
   "nbconvert_exporter": "python",
   "pygments_lexer": "ipython3",
   "version": "3.11.1"
  },
  "orig_nbformat": 4,
  "vscode": {
   "interpreter": {
    "hash": "5ffd7eb2cebf9ac436b5021ba01877e9cee6b03524e01bf8c8637d3e64111215"
   }
  }
 },
 "nbformat": 4,
 "nbformat_minor": 2
}
