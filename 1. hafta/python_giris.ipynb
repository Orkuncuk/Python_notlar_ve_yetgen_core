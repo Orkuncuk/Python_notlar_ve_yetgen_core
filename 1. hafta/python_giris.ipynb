{
 "cells": [
  {
   "cell_type": "code",
   "execution_count": 2,
   "metadata": {},
   "outputs": [
    {
     "name": "stdout",
     "output_type": "stream",
     "text": [
      "31\n",
      "96\n",
      "6\n",
      "2.5\n",
      "25\n",
      "1\n",
      "2\n"
     ]
    }
   ],
   "source": [
    "# introduction\n",
    "print(30 + 1)   # addition(+)\n",
    "print(99 - 3)   # subtraction(-)\n",
    "print(2 * 3)   # multiplication(*)\n",
    "print(5 / 2)   # division(/)\n",
    "print(5 ** 2)  # exponential(**)\n",
    "print(5 % 2)   # modulus(%)[bölme işlemindeki kalan]\n",
    "print(5 // 2)  # Floor division operator(//)[ bölme işlemindeki bölüm]"
   ]
  }
 ],
 "metadata": {
  "kernelspec": {
   "display_name": "Python 3",
   "language": "python",
   "name": "python3"
  },
  "language_info": {
   "codemirror_mode": {
    "name": "ipython",
    "version": 3
   },
   "file_extension": ".py",
   "mimetype": "text/x-python",
   "name": "python",
   "nbconvert_exporter": "python",
   "pygments_lexer": "ipython3",
   "version": "3.11.1"
  },
  "orig_nbformat": 4,
  "vscode": {
   "interpreter": {
    "hash": "5ffd7eb2cebf9ac436b5021ba01877e9cee6b03524e01bf8c8637d3e64111215"
   }
  }
 },
 "nbformat": 4,
 "nbformat_minor": 2
}
