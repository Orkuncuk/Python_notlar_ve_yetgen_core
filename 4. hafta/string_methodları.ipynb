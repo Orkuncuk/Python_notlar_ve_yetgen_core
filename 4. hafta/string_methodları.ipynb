{
 "cells": [
  {
   "cell_type": "code",
   "execution_count": 1,
   "metadata": {},
   "outputs": [
    {
     "name": "stdout",
     "output_type": "stream",
     "text": [
      "eh\n"
     ]
    }
   ],
   "source": [
    "isim = \"mehmet\"\n",
    "print(isim[1:3])"
   ]
  },
  {
   "cell_type": "code",
   "execution_count": 13,
   "metadata": {},
   "outputs": [
    {
     "name": "stdout",
     "output_type": "stream",
     "text": [
      "10\n",
      "mehmet ali̇\n",
      "MEHMET ALİ\n",
      "Mehmet ali̇\n",
      "MEHMET ali̇\n",
      "mahmat ALİ\n"
     ]
    }
   ],
   "source": [
    "isim = \"mehmet ALİ\"\n",
    "print(len(isim))\n",
    "print(isim.lower())\n",
    "print(isim.upper())\n",
    "print(isim.capitalize())\n",
    "print(isim.swapcase())\n",
    "print(isim.replace(\"e\",\"a\"))\n"
   ]
  },
  {
   "cell_type": "code",
   "execution_count": 16,
   "metadata": {},
   "outputs": [
    {
     "name": "stdout",
     "output_type": "stream",
     "text": [
      "['orkun', 'aktas', '20', 'nevsehir']\n",
      "['orkun', 'aktas', '20', 'nevsehir']\n",
      "yetgen   core\n"
     ]
    }
   ],
   "source": [
    "birey = \"orkun aktas 20 nevsehir\"\n",
    "print(birey.split(\" \"))\n",
    "birey2 = \"orkun; aktas; 20; nevsehir\"\n",
    "print(birey2.split(\"; \"))\n",
    "bosluk = \"       yetgen   core   \" # baştakı ve sondaki strip boşlukları siler\n",
    "print(bosluk.strip())"
   ]
  },
  {
   "cell_type": "code",
   "execution_count": 19,
   "metadata": {},
   "outputs": [
    {
     "name": "stdout",
     "output_type": "stream",
     "text": [
      "True\n",
      "False\n"
     ]
    }
   ],
   "source": [
    "birey = \"orkun aktas\"\n",
    "print(birey.startswith(\"o\"))\n",
    "print(birey.endswith(\"S\"))"
   ]
  },
  {
   "cell_type": "code",
   "execution_count": 22,
   "metadata": {},
   "outputs": [
    {
     "name": "stdout",
     "output_type": "stream",
     "text": [
      "4\n",
      "-1\n",
      "4\n"
     ]
    }
   ],
   "source": [
    "a = \"yetgen core\"\n",
    "print(a.find(\"en\"))\n",
    "print(a.find(\"m\")) # -1 çıktısı böyle bir şey yok demek.\n",
    "print(a.index(\"en\")) # içinde bulunmayan bir şey yazarsan -1 çıktısı vermez HATA verir."
   ]
  },
  {
   "cell_type": "code",
   "execution_count": 29,
   "metadata": {},
   "outputs": [
    {
     "name": "stdout",
     "output_type": "stream",
     "text": [
      "True\n",
      "True\n",
      "False\n",
      "False\n",
      "True\n"
     ]
    }
   ],
   "source": [
    "print(\"abdc\".isalpha()) # sadece harf olup olmadığına bakar\n",
    "print(\"1234\".isdigit()) # sadece rakam olup olmadığına bakıyor\n",
    "a = \"orkun ak\" # boşluk var\n",
    "b = \"orkun124\" # sayı var\n",
    "c = \"1234\"\n",
    "print(a.isalpha())\n",
    "print(b.isalpha())\n",
    "print(c.isdigit())"
   ]
  }
 ],
 "metadata": {
  "kernelspec": {
   "display_name": "Python 3",
   "language": "python",
   "name": "python3"
  },
  "language_info": {
   "codemirror_mode": {
    "name": "ipython",
    "version": 3
   },
   "file_extension": ".py",
   "mimetype": "text/x-python",
   "name": "python",
   "nbconvert_exporter": "python",
   "pygments_lexer": "ipython3",
   "version": "3.11.1"
  },
  "orig_nbformat": 4
 },
 "nbformat": 4,
 "nbformat_minor": 2
}
