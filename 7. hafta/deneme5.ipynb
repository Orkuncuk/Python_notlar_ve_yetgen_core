{
 "cells": [
  {
   "cell_type": "code",
   "execution_count": 8,
   "metadata": {},
   "outputs": [
    {
     "name": "stdout",
     "output_type": "stream",
     "text": [
      "1\n",
      "1\n",
      "[-1, 1, 3, 4, 7, 56, 89]\n",
      "[]\n"
     ]
    }
   ],
   "source": [
    "# verilen bir listeyi \n",
    "def findSmallest(arr):\n",
    "    smallest = arr[0] #Stores the smallest value\n",
    "    smallest_index = 0 #Stores the index of the smallest value\n",
    "    for i in range(1, len(arr)):\n",
    "        if arr[i] < smallest:\n",
    "            smallest = arr[i]\n",
    "            smallest_index = i\n",
    "    return smallest_index\n",
    "liste = [1,-1,4,56,7,89,3]\n",
    "print(findSmallest(arr=liste))\n",
    "def bulKucuk(arr):\n",
    "    enkucuk = float(\"inf\")\n",
    "    enkucuk_index = 0\n",
    "    for i in range(len(arr)):\n",
    "        if arr[i] < enkucuk:\n",
    "            enkucuk = arr[i]\n",
    "            enkucuk_index = i\n",
    "    return enkucuk_index\n",
    "print(bulKucuk(arr=liste))\n",
    "def sıralama(sayi):\n",
    "    newarr = []\n",
    "    for i in range(len(sayi)):\n",
    "        kucuk = bulKucuk(sayi)\n",
    "        newarr.append(sayi.pop(kucuk)) # sayi = liste ya listedeki her bir elemanı çıkarıp newarr'a ekliyor\n",
    "    return newarr\n",
    "print(sıralama(liste))\n",
    "print(liste) # bu yüzden liste içi artık boş"
   ]
  },
  {
   "cell_type": "code",
   "execution_count": 3,
   "metadata": {},
   "outputs": [
    {
     "name": "stdout",
     "output_type": "stream",
     "text": [
      "[[1, 4], [2, 3], [3, 2], [4, 1]]\n"
     ]
    }
   ],
   "source": [
    "liste = []\n",
    "for i in range(1,7):\n",
    "    for j in range(1,7):\n",
    "        if i + j == 5:\n",
    "            liste.append([i,j])\n",
    "print(liste)"
   ]
  }
 ],
 "metadata": {
  "kernelspec": {
   "display_name": "Python 3",
   "language": "python",
   "name": "python3"
  },
  "language_info": {
   "codemirror_mode": {
    "name": "ipython",
    "version": 3
   },
   "file_extension": ".py",
   "mimetype": "text/x-python",
   "name": "python",
   "nbconvert_exporter": "python",
   "pygments_lexer": "ipython3",
   "version": "3.11.1"
  },
  "orig_nbformat": 4
 },
 "nbformat": 4,
 "nbformat_minor": 2
}
