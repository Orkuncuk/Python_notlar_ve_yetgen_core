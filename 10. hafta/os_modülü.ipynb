{
 "cells": [
  {
   "cell_type": "code",
   "execution_count": 2,
   "metadata": {},
   "outputs": [
    {
     "name": "stdout",
     "output_type": "stream",
     "text": [
      "c:\\Users\\PC\\OneDrive - boun.edu.tr\\Belgeler\\GitHub\\orkuncalismaalani\\10. hafta\n",
      "['ders notları', 'eğitimsonrası', 'eğitimöncesi', 'numpy.ipynb', 'os_modülü.ipynb']\n",
      "10. Hafta Eğitim Öncesi Görevleri.ipynb\n",
      "deneme\n"
     ]
    }
   ],
   "source": [
    "import os\n",
    "print(os.getcwd()) # hangi klasörün içinde olduğunu gösteriyor\n",
    "# os.chdir(buraya gidilcek klasör adresi gir) fonk. klasörün konumu değiştirmeyi sağlar\n",
    "print(os.listdir()) # parantezin içine herhangi bir klasör adresi girersen onun içeriğini görüntüleyebilirsin\n",
    "for i in os.listdir(r\"C:\\Users\\PC\\OneDrive - boun.edu.tr\\Belgeler\\GitHub\\orkuncalismaalani\\10. hafta\\eğitimöncesi\"):\n",
    "    print(i)"
   ]
  },
  {
   "cell_type": "code",
   "execution_count": 21,
   "metadata": {},
   "outputs": [
    {
     "name": "stdout",
     "output_type": "stream",
     "text": [
      "True\n",
      "True\n",
      "('numpy', '.ipynb')\n"
     ]
    }
   ],
   "source": [
    "print(os.path.isfile(\"ders notları\")) #dosya mı\n",
    "print(os.path.isdir(\"eğitimsonrası\")) # klasör mü\n",
    "print(os.path.splitext(\"numpy.ipynb\")) # dosya uzantılarını elde etmek için faydalı olabilir"
   ]
  },
  {
   "cell_type": "code",
   "execution_count": 15,
   "metadata": {},
   "outputs": [
    {
     "name": "stdout",
     "output_type": "stream",
     "text": [
      "os.stat_result(st_mode=33206, st_ino=15199648742509327, st_dev=2685902553, st_nlink=1, st_uid=0, st_gid=0, st_size=9916, st_atime=1682356321, st_mtime=1682356314, st_ctime=1682346761)\n",
      "666\n",
      "2023-04-24 20:12:01.794754\n"
     ]
    }
   ],
   "source": [
    "from datetime import datetime\n",
    "print(os.stat(\"numpy.ipynb\"))\n",
    "mode = os.stat(\"numpy.ipynb\").st_mode # dosya izinlerine bakar\n",
    "print(oct(mode)[-3:])\n",
    "a = os.stat(\"numpy.ipynb\").st_atime\n",
    "zaman = datetime.fromtimestamp(a)\n",
    "print(zaman)"
   ]
  },
  {
   "cell_type": "code",
   "execution_count": 18,
   "metadata": {},
   "outputs": [
    {
     "name": "stdout",
     "output_type": "stream",
     "text": [
      "C:\\Users\\PC\\OneDrive - boun.edu.tr\\Belgeler\\GitHub\\orkuncalismaalani\\10. hafta\n",
      "['eğitimsonrası', 'eğitimöncesi']\n",
      "['ders notları', 'numpy.ipynb', 'os_modülü.ipynb']\n",
      "\n",
      "C:\\Users\\PC\\OneDrive - boun.edu.tr\\Belgeler\\GitHub\\orkuncalismaalani\\10. hafta\\eğitimsonrası\n",
      "[]\n",
      "['deneme']\n",
      "\n",
      "C:\\Users\\PC\\OneDrive - boun.edu.tr\\Belgeler\\GitHub\\orkuncalismaalani\\10. hafta\\eğitimöncesi\n",
      "[]\n",
      "['10. Hafta Eğitim Öncesi Görevleri.ipynb', 'deneme']\n",
      "\n"
     ]
    }
   ],
   "source": [
    "for a,b,c in os.walk(r\"C:\\Users\\PC\\OneDrive - boun.edu.tr\\Belgeler\\GitHub\\orkuncalismaalani\\10. hafta\"):\n",
    "    print(a)\n",
    "    print(b)\n",
    "    print(c)\n",
    "    print()\n"
   ]
  }
 ],
 "metadata": {
  "kernelspec": {
   "display_name": "Python 3",
   "language": "python",
   "name": "python3"
  },
  "language_info": {
   "codemirror_mode": {
    "name": "ipython",
    "version": 3
   },
   "file_extension": ".py",
   "mimetype": "text/x-python",
   "name": "python",
   "nbconvert_exporter": "python",
   "pygments_lexer": "ipython3",
   "version": "3.11.1"
  },
  "orig_nbformat": 4
 },
 "nbformat": 4,
 "nbformat_minor": 2
}
