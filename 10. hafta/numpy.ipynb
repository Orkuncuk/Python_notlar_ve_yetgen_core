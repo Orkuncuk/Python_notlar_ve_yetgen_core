{
 "cells": [
  {
   "cell_type": "code",
   "execution_count": 5,
   "metadata": {},
   "outputs": [
    {
     "name": "stdout",
     "output_type": "stream",
     "text": [
      "[2, 6, 12, 20]\n"
     ]
    }
   ],
   "source": [
    "a = [1,2,3,4]\n",
    "b = [2,3,4,5]\n",
    "ab = []\n",
    "for i in range(0,len(a)):\n",
    "    ab.append(a[i] * b[i])\n",
    "print(ab)"
   ]
  },
  {
   "cell_type": "code",
   "execution_count": 13,
   "metadata": {},
   "outputs": [
    {
     "name": "stdout",
     "output_type": "stream",
     "text": [
      "[ 2  6 12 20]\n",
      "[[1 2 3]\n",
      " [4 5 6]\n",
      " [7 8 9]]\n",
      "(3, 3)\n",
      "(9,)\n",
      "1\n",
      "2\n"
     ]
    }
   ],
   "source": [
    "import numpy as np\n",
    "a = np.array([1,2,3,4])\n",
    "b = np.array([2,3,4,5])\n",
    "print(a*b)\n",
    "x = np.array([1,2,3,4,5,6,7,8,9])\n",
    "multi = x.reshape(3,3)\n",
    "print(multi)\n",
    "print(multi.shape)\n",
    "print(x.shape)\n",
    "print(x.ndim)\n",
    "print(multi.ndim)"
   ]
  },
  {
   "cell_type": "code",
   "execution_count": 14,
   "metadata": {},
   "outputs": [
    {
     "name": "stdout",
     "output_type": "stream",
     "text": [
      "[ 1  2  3  4  5  6  7  8  9 10]\n"
     ]
    }
   ],
   "source": [
    "x = np.array([1,2,3,4,5])\n",
    "y = np.array([6,7,8,9,10])\n",
    "print(np.concatenate([x,y]))"
   ]
  },
  {
   "cell_type": "code",
   "execution_count": 20,
   "metadata": {},
   "outputs": [
    {
     "name": "stdout",
     "output_type": "stream",
     "text": [
      "[[1 2 3 4]\n",
      " [5 6 7 8]\n",
      " [1 2 3 4]\n",
      " [5 6 7 8]]\n",
      "[[1 2 3 4 1 2 3 4]\n",
      " [5 6 7 8 5 6 7 8]]\n",
      "[[1 2 3 4]\n",
      " [5 6 7 8]\n",
      " [1 2 3 4]\n",
      " [5 6 7 8]]\n"
     ]
    }
   ],
   "source": [
    "mikasa = np.array([[1,2,3,4],[5,6,7,8]])\n",
    "print(np.concatenate([mikasa,mikasa]))\n",
    "print(np.concatenate([mikasa,mikasa], axis =1)) # sütün bazında birleştirme\n",
    "print(np.concatenate([mikasa,mikasa], axis = 0)) # satır bazında birleştirme"
   ]
  },
  {
   "cell_type": "code",
   "execution_count": 25,
   "metadata": {},
   "outputs": [
    {
     "name": "stdout",
     "output_type": "stream",
     "text": [
      "[array([1, 2, 3]), array([99, 99]), array([3, 2, 1])]\n"
     ]
    }
   ],
   "source": [
    "m = np.array([1,2,3,99,99,3,2,1])\n",
    "print(np.split(m, [3,5]))\n"
   ]
  },
  {
   "cell_type": "code",
   "execution_count": 28,
   "metadata": {},
   "outputs": [
    {
     "name": "stdout",
     "output_type": "stream",
     "text": [
      "[1 2 3]\n",
      "[99 99]\n",
      "[3 2 1]\n"
     ]
    }
   ],
   "source": [
    "a,b,c = np.split(m, [3,5])\n",
    "print(a)\n",
    "print(b)\n",
    "print(c)"
   ]
  },
  {
   "cell_type": "code",
   "execution_count": 44,
   "metadata": {},
   "outputs": [
    {
     "name": "stdout",
     "output_type": "stream",
     "text": [
      "[ 0  3  6  9 12 15 18 21 24 27]\n",
      "[0. 0. 0. 0. 0.]\n",
      "[1. 1. 1. 1. 1.]\n",
      "[  1.  12.  23.  34.  45.  56.  67.  78.  89. 100.]\n",
      "[9 7 5]\n"
     ]
    }
   ],
   "source": [
    "print(np.arange(0,30,3)) \n",
    "print(np.zeros(5))\n",
    "print(np.ones(5))\n",
    "print(np.linspace(1,100,10)) # 1 ile 100 arasını 10 eşit parçaya böl\n",
    "print(np.random.randint(0,10,3)) # 0 ile 10 arasında 3 sayı üret"
   ]
  },
  {
   "cell_type": "code",
   "execution_count": 30,
   "metadata": {},
   "outputs": [
    {
     "name": "stdout",
     "output_type": "stream",
     "text": [
      "[array([[0, 1, 2, 3],\n",
      "       [4, 5, 6, 7]]), array([[ 8,  9, 10, 11],\n",
      "       [12, 13, 14, 15]])]\n",
      "[array([[ 0,  1],\n",
      "       [ 4,  5],\n",
      "       [ 8,  9],\n",
      "       [12, 13]]), array([[ 2,  3],\n",
      "       [ 6,  7],\n",
      "       [10, 11],\n",
      "       [14, 15]])]\n"
     ]
    }
   ],
   "source": [
    "n = np.arange(16).reshape(4,4)\n",
    "print(np.vsplit(n, [2]))\n",
    "print(np.hsplit(n, [2]))"
   ]
  },
  {
   "cell_type": "code",
   "execution_count": 48,
   "metadata": {},
   "outputs": [
    {
     "name": "stdout",
     "output_type": "stream",
     "text": [
      "[4 9 9 5 1 2 5 7 5 8]\n",
      "1\n",
      "(10,)\n",
      "10\n",
      "int32\n"
     ]
    }
   ],
   "source": [
    "a = np.random.randint(10, size= 10)\n",
    "print(a)\n",
    "print(a.ndim)\n",
    "print(a.shape)\n",
    "print(a.size)\n",
    "print(a.dtype)"
   ]
  },
  {
   "cell_type": "code",
   "execution_count": 58,
   "metadata": {},
   "outputs": [
    {
     "name": "stdout",
     "output_type": "stream",
     "text": [
      "[39 20 15 34  9 31 15  1 59 40 38 81 19  8  1 17 99 79 78 71]\n",
      "[ 1  1  8  9 15 15 17 19 20 31 34 38 39 40 59 71 78 79 81 99]\n"
     ]
    }
   ],
   "source": [
    "a = np.random.randint(100,size=20)\n",
    "print(a)\n",
    "a.sort()\n",
    "print(a)\n"
   ]
  },
  {
   "cell_type": "code",
   "execution_count": 69,
   "metadata": {},
   "outputs": [
    {
     "name": "stdout",
     "output_type": "stream",
     "text": [
      "[[20.92694882 12.52969939 30.95136689 21.59963386]\n",
      " [21.09165091 22.07810585 32.97236364 22.87038006]\n",
      " [18.98480612 13.73038374 21.94609614 13.63985375]]\n",
      "[[18.98480612 12.52969939 21.94609614 13.63985375]\n",
      " [20.92694882 13.73038374 30.95136689 21.59963386]\n",
      " [21.09165091 22.07810585 32.97236364 22.87038006]]\n",
      "[[12.52969939 20.92694882 21.59963386 30.95136689]\n",
      " [21.09165091 22.07810585 22.87038006 32.97236364]\n",
      " [13.63985375 13.73038374 18.98480612 21.94609614]]\n"
     ]
    }
   ],
   "source": [
    "k = np.random.normal(20,5,(3,4)) # a normal distribution with a mean of 20 and a standard deviation of 5.\n",
    "print(k)\n",
    "print(np.sort(k, axis = 0)) # dikey eksene göre sıraladı\n",
    "print(np.sort(k, axis = 1))"
   ]
  },
  {
   "cell_type": "code",
   "execution_count": 73,
   "metadata": {},
   "outputs": [
    {
     "name": "stdout",
     "output_type": "stream",
     "text": [
      "[34  8 52  9 42 58  9 36 68 32], 9\n",
      "[[ 4  5 40  7 71]\n",
      " [97 55 27  8 41]\n",
      " [76 58 10 86 48]], 4\n"
     ]
    }
   ],
   "source": [
    "a = np.random.randint(100,size=10)\n",
    "print(f\"{a}, {a[3]}\")\n",
    "b = np.random.randint(100,size=(3,5))\n",
    "print(f\"{b}, {b[0,0]}\")"
   ]
  },
  {
   "cell_type": "code",
   "execution_count": 80,
   "metadata": {},
   "outputs": [
    {
     "name": "stdout",
     "output_type": "stream",
     "text": [
      "[[9 5 4 1 5]\n",
      " [3 5 5 6 2]\n",
      " [7 1 8 2 3]\n",
      " [5 4 5 1 9]\n",
      " [6 4 9 0 3]]\n",
      "[9 3 7 5 6]\n",
      "[9 5 4 1 5]\n",
      "[[9 5 4]\n",
      " [3 5 5]]\n"
     ]
    }
   ],
   "source": [
    "a = np.random.randint(10, size=[5,5])\n",
    "print(a)\n",
    "print(a[:,0])\n",
    "print(a[0,:])\n",
    "print(a[0:2,0:3])"
   ]
  },
  {
   "cell_type": "code",
   "execution_count": 90,
   "metadata": {},
   "outputs": [
    {
     "name": "stdout",
     "output_type": "stream",
     "text": [
      "[[100   5]\n",
      " [  3 200]\n",
      " [  7   1]]\n",
      "[[100   5]\n",
      " [  3 200]\n",
      " [  7   1]]\n",
      "[[100   5   4   1   5]\n",
      " [  3 200   5   6   2]\n",
      " [  7   1   8   2   3]\n",
      " [  5   4   5   1   9]\n",
      " [  6   4   9   0   3]]\n"
     ]
    }
   ],
   "source": [
    "alt_b = a[0:3,0:2]\n",
    "print(alt_b)\n",
    "alt_b[0,0] = 100\n",
    "alt_b[1,1] = 200\n",
    "print(alt_b)\n",
    "print(a)"
   ]
  },
  {
   "cell_type": "code",
   "execution_count": 93,
   "metadata": {},
   "outputs": [
    {
     "name": "stdout",
     "output_type": "stream",
     "text": [
      "[ 4 10 16]\n"
     ]
    }
   ],
   "source": [
    "v = np.arange(1,30,3)\n",
    "liste = [1,3,5]\n",
    "print(v[liste])"
   ]
  },
  {
   "cell_type": "code",
   "execution_count": 96,
   "metadata": {},
   "outputs": [
    {
     "name": "stdout",
     "output_type": "stream",
     "text": [
      "[False False False  True  True]\n",
      "[4 5]\n"
     ]
    }
   ],
   "source": [
    "v = np.array([1,2,3,4,5])\n",
    "print(3 < v)\n",
    "print(v[3<v])"
   ]
  },
  {
   "cell_type": "code",
   "execution_count": 103,
   "metadata": {},
   "outputs": [
    {
     "name": "stdout",
     "output_type": "stream",
     "text": [
      "[ 2  4  6  8 10]\n",
      "[11 12 13 14 15]\n",
      "[-2 -1  0  1  2]\n",
      "[3 4 5 6 7]\n",
      "[ 2  4  6  8 10]\n",
      "[0.5 1.  1.5 2.  2.5]\n",
      "[ 1  4  9 16 25]\n",
      "[1 2 3 4 0]\n"
     ]
    }
   ],
   "source": [
    "v = np.array([1,2,3,4,5])\n",
    "print(v*2)\n",
    "print(v+10)\n",
    "print(np.subtract(v,3))\n",
    "print(np.add(v,2))\n",
    "print(np.multiply(v,2))\n",
    "print(np.divide(v,2))\n",
    "print(np.power(v,2))\n",
    "print(np.mod(v,5))"
   ]
  },
  {
   "cell_type": "code",
   "execution_count": 105,
   "metadata": {},
   "outputs": [
    {
     "name": "stdout",
     "output_type": "stream",
     "text": [
      "[-0.45454545  3.63636364]\n"
     ]
    }
   ],
   "source": [
    "# 2x + y  = 10\n",
    "# 3x + 7y =  25\n",
    "a = np.array([[2,3],[1,7]])\n",
    "b = np.array([10,25])\n",
    "x = np.linalg.solve(a,b)\n",
    "print(x)"
   ]
  }
 ],
 "metadata": {
  "kernelspec": {
   "display_name": "Python 3",
   "language": "python",
   "name": "python3"
  },
  "language_info": {
   "codemirror_mode": {
    "name": "ipython",
    "version": 3
   },
   "file_extension": ".py",
   "mimetype": "text/x-python",
   "name": "python",
   "nbconvert_exporter": "python",
   "pygments_lexer": "ipython3",
   "version": "3.11.1"
  },
  "orig_nbformat": 4
 },
 "nbformat": 4,
 "nbformat_minor": 2
}
