{
 "cells": [
  {
   "cell_type": "code",
   "execution_count": 4,
   "metadata": {},
   "outputs": [
    {
     "name": "stdout",
     "output_type": "stream",
     "text": [
      "<class 'list'>\n",
      "5\n",
      "beyaz\n",
      "['siyah', 'sarı', 'yeşil']\n",
      "\n"
     ]
    }
   ],
   "source": [
    "renkler = [\"siyah\", \"beyaz\", \"sarı\", \"mavi\", \"yeşil\"]\n",
    "print(type(renkler))\n",
    "print(len(renkler))\n",
    "print(renkler[1])\n",
    "print(renkler[::2])"
   ]
  },
  {
   "cell_type": "code",
   "execution_count": 6,
   "metadata": {},
   "outputs": [
    {
     "name": "stdout",
     "output_type": "stream",
     "text": [
      "['siyah', 'beyaz', 'sarı', 'mavi', 'yeşil', 'gri']\n",
      "['siyah', 'pembe', 'beyaz', 'sarı', 'mavi', 'yeşil', 'gri']\n"
     ]
    }
   ],
   "source": [
    "# methodlar 1\n",
    "renkler = [\"siyah\", \"beyaz\", \"sarı\", \"mavi\", \"yeşil\"]\n",
    "renkler.append(\"gri\") # direk Sliste sonuna eleman ekler.\n",
    "print(renkler)\n",
    "renkler.insert(1,\"pembe\") # istediğimiz index'e liste elemanı atamamızı sağlar.\n",
    "print(renkler)"
   ]
  },
  {
   "cell_type": "code",
   "execution_count": 10,
   "metadata": {},
   "outputs": [
    {
     "name": "stdout",
     "output_type": "stream",
     "text": [
      "['siyah', 'beyaz', 'sarı', 'mavi', 'yeşil', ['turuncu', 'pembe']]\n",
      "['siyah', 'beyaz', 'sarı', 'mavi', 'yeşil', 'turuncu', 'pembe']\n"
     ]
    }
   ],
   "source": [
    "# methodlar 2\n",
    "renkler = [\"siyah\", \"beyaz\", \"sarı\", \"mavi\", \"yeşil\"]\n",
    "renkler2 = [\"turuncu\", \"pembe\"]\n",
    "renkler.append(renkler2) # listeyi olduğu gibi ekledi.\n",
    "print(renkler)\n",
    "renkler1 = [\"siyah\", \"beyaz\", \"sarı\", \"mavi\", \"yeşil\"]\n",
    "renkler1.extend(renkler2) # listenin elemanlarını ekledi.\n",
    "print(renkler1)\n"
   ]
  },
  {
   "cell_type": "code",
   "execution_count": 14,
   "metadata": {},
   "outputs": [
    {
     "name": "stdout",
     "output_type": "stream",
     "text": [
      "['beyaz', 'sarı', 'mavi', 'yeşil']\n",
      "['beyaz', 'sarı', 'mavi']\n"
     ]
    }
   ],
   "source": [
    "# methodlar 3\n",
    "renkler = [\"siyah\", \"beyaz\", \"sarı\", \"mavi\", \"yeşil\"]\n",
    "renkler.remove(\"siyah\") # listeden eleman silebilmemizi sağlar.\n",
    "print(renkler)\n",
    "renkler.pop() # en sondaki elemanı siliyor. ayrıca geriye dönüş yapabilen bir fonksiyondur.\n",
    "print(renkler)\n"
   ]
  },
  {
   "cell_type": "code",
   "execution_count": 19,
   "metadata": {},
   "outputs": [
    {
     "name": "stdout",
     "output_type": "stream",
     "text": [
      "['yeşil', 'mavi', 'sarı', 'beyaz', 'siyah']\n",
      "['beyaz', 'mavi', 'sarı', 'siyah', 'yeşil']\n",
      "['yeşil', 'siyah', 'sarı', 'mavi', 'beyaz']\n",
      "['beyaz', 'mavi', 'sarı', 'siyah', 'yeşil']\n"
     ]
    }
   ],
   "source": [
    "# method 4\n",
    "renkler = [\"siyah\", \"beyaz\", \"sarı\", \"mavi\", \"yeşil\"]\n",
    "renkler.reverse() \n",
    "print(renkler)\n",
    "renkler.sort() # listeyi küçükten büyüğe sıralıyor. \n",
    "print(renkler)\n",
    "renkler.sort(reverse= True) # listeyi büyükten küçüğe sıraladı.\n",
    "print(renkler)\n",
    "# not: yukarıdaki 3 methoda listenin eski halini değiştiriyor. yani yeni bir liste haline geliyor.\n",
    "renkler1 = [\"siyah\", \"beyaz\", \"sarı\", \"mavi\", \"yeşil\"]\n",
    "renkler2 = sorted(renkler1)  # renkler1 listesini değiştirmeden listeyi sıralamış oldum.\n",
    "print(renkler2) "
   ]
  },
  {
   "cell_type": "code",
   "execution_count": 23,
   "metadata": {},
   "outputs": [
    {
     "name": "stdout",
     "output_type": "stream",
     "text": [
      "beyaz\n",
      "1\n",
      "yeşil\n",
      "9\n",
      "25\n"
     ]
    }
   ],
   "source": [
    "# method 5\n",
    "renkler = [\"siyah\", \"beyaz\", \"sarı\", \"mavi\", \"yeşil\"]\n",
    "sayilar = [1, 3, 5, 7, 9]\n",
    "print(min(renkler))\n",
    "print(min(sayilar))\n",
    "print(max(renkler))\n",
    "print(max(sayilar))\n",
    "print(sum(sayilar))\n",
    "\n"
   ]
  },
  {
   "cell_type": "code",
   "execution_count": 32,
   "metadata": {},
   "outputs": [
    {
     "name": "stdout",
     "output_type": "stream",
     "text": [
      "[(0, 'siyah'), (1, 'beyaz'), (2, 'sarı'), (3, 'mavi'), (4, 'yeşil')]\n",
      "[(3, 'siyah'), (4, 'beyaz'), (5, 'sarı'), (6, 'mavi'), (7, 'yeşil')]\n",
      "True\n"
     ]
    }
   ],
   "source": [
    "# method 6\n",
    "renkler = [\"siyah\", \"beyaz\", \"sarı\", \"mavi\", \"yeşil\"]\n",
    "print(list(enumerate(renkler))) # liste elemanlarını numaralandırılmasını sağlar.\n",
    "print(list(enumerate(renkler, 3)))\n",
    "print(\"siyah\" in renkler) # listede aradığımız elemanın bulunup bulunmadığını gösterir."
   ]
  },
  {
   "cell_type": "code",
   "execution_count": 24,
   "metadata": {},
   "outputs": [
    {
     "name": "stdout",
     "output_type": "stream",
     "text": [
      "siyah\n",
      "beyaz\n",
      "sarı\n",
      "mavi\n",
      "yeşil\n"
     ]
    }
   ],
   "source": [
    "# method 7 bir tık ileri düzey örnek\n",
    "renkler = [\"siyah\", \"beyaz\", \"sarı\", \"mavi\", \"yeşil\"]\n",
    "for renk in renkler:\n",
    "    print(renk)"
   ]
  }
 ],
 "metadata": {
  "kernelspec": {
   "display_name": "Python 3",
   "language": "python",
   "name": "python3"
  },
  "language_info": {
   "codemirror_mode": {
    "name": "ipython",
    "version": 3
   },
   "file_extension": ".py",
   "mimetype": "text/x-python",
   "name": "python",
   "nbconvert_exporter": "python",
   "pygments_lexer": "ipython3",
   "version": "3.11.1"
  },
  "orig_nbformat": 4,
  "vscode": {
   "interpreter": {
    "hash": "5ffd7eb2cebf9ac436b5021ba01877e9cee6b03524e01bf8c8637d3e64111215"
   }
  }
 },
 "nbformat": 4,
 "nbformat_minor": 2
}
