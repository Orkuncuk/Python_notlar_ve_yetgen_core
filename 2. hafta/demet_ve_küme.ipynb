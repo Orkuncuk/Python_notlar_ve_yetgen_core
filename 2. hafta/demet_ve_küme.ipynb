{
 "cells": [
  {
   "cell_type": "code",
   "execution_count": 2,
   "metadata": {},
   "outputs": [
    {
     "name": "stdout",
     "output_type": "stream",
     "text": [
      "<class 'tuple'>\n",
      "6\n",
      "yeşil\n"
     ]
    }
   ],
   "source": [
    "# tuple - demet\n",
    "demet = (\"siyah\", \"beyaz\", \"sari\", \"mavi\", \"yeşil\",[2, 4,6]) \n",
    "print(type(demet))\n",
    "print(len(demet))\n",
    "print(demet[-2])\n",
    "# tuple'ın string'den farkı tuple'ın herhangi bir elamını silemezsin,değiştiremezsin ve yeni bir eleman ekleyemezsin.\n",
    "# performanslı bir sata sağlar.\n",
    "# iç içe tuple oluşturulabilir.\n",
    "# liste içerisinde tuple, tuple içerisinde liste tanımlamak mümkündür."
   ]
  },
  {
   "cell_type": "code",
   "execution_count": 9,
   "metadata": {},
   "outputs": [
    {
     "name": "stdout",
     "output_type": "stream",
     "text": [
      "<class 'set'>\n",
      "5\n",
      "True\n",
      "{'sari', 'beyaz', 'yeşil', 'mavi'}\n"
     ]
    }
   ],
   "source": [
    "# set - küme[hızlı bir veri tipidir.]\n",
    "# kümeler sırarsız bir veri yapısıdır.\n",
    "# bir eleman yalnızca bir kere bulunabilir. yani tüm elemanlar eşşizdir.\n",
    "# indexsiz yani sırasızdır.\n",
    "küme = {\"siyah\", \"beyaz\", \"sari\", \"mavi\", \"yeşil\"}\n",
    "print(type(küme))\n",
    "print(len(küme))\n",
    "print(\"siyah\" in küme)\n",
    "küme.pop()"
   ]
  },
  {
   "cell_type": "code",
   "execution_count": 8,
   "metadata": {},
   "outputs": [
    {
     "name": "stdout",
     "output_type": "stream",
     "text": [
      "siyah\n",
      "sari\n",
      "beyaz\n",
      "yeşil\n",
      "mavi\n",
      "{'siyah', 'pembe', 'sari', 'beyaz', 'yeşil', 'mavi'}\n",
      "{'siyah', 'pembe', 'beyaz', 'yeşil', 'mavi'}\n",
      "{'siyah', 'pembe', 'beyaz', 'yeşil', 'mavi'}\n",
      "{1, 2, 3, 4, 'pembe', 'beyaz', 'mavi', 'yeşil', 'siyah'}\n",
      "{2, 3, 4, 'pembe', 'beyaz', 'mavi', 'yeşil', 'siyah'}\n"
     ]
    }
   ],
   "source": [
    "# set'e devam\n",
    "küme = {\"siyah\", \"beyaz\", \"sari\", \"mavi\", \"yeşil\"}\n",
    "for renk in küme:\n",
    "    print(renk) # fark ettiysen sırasıyla yazmadı.\n",
    "küme.add(\"pembe\")\n",
    "print(küme)\n",
    "küme.remove(\"sari\") # eğer sari yoksa bu kod hata verir.\n",
    "print(küme)\n",
    "küme.discard(\"gri\") # kümede olup olmadığını bilmiyoruz ama çıkması lazım. bunu kullanarak hata almıyorsun eğer yoksa.\n",
    "print(küme)\n",
    "küme.update([1,2,3,4]) # çoklu ekleme yapabilmemizi sağlar.\n",
    "print(küme)\n",
    "küme.pop() #en baştakini yani sol baştan olarak çıkarıyor.\n",
    "print(küme)"
   ]
  },
  {
   "cell_type": "code",
   "execution_count": 10,
   "metadata": {},
   "outputs": [
    {
     "name": "stdout",
     "output_type": "stream",
     "text": [
      "{'sari', 'beyaz', 'siyah'}\n",
      "{'pembe', 'sari', 'beyaz', 'yeşil', 'siyah', 'gri', 'mavi'}\n",
      "{'yeşil', 'mavi'}\n",
      "{'gri', 'pembe'}\n",
      "set()\n"
     ]
    }
   ],
   "source": [
    "# set'e devam 2\n",
    "küme1 = {\"siyah\", \"beyaz\", \"sari\", \"mavi\", \"yeşil\"}\n",
    "küme2 = {\"siyah\", \"beyaz\", \"sari\", \"pembe\", \"gri\"}\n",
    "print(küme1.intersection(küme2))\n",
    "print(küme1.union(küme2))\n",
    "print(küme1.difference(küme2))\n",
    "print(küme2.difference(küme1))\n",
    "küme1.clear() # kümeyi temizliyor.\n",
    "print(küme1)"
   ]
  },
  {
   "cell_type": "code",
   "execution_count": 22,
   "metadata": {},
   "outputs": [
    {
     "name": "stdout",
     "output_type": "stream",
     "text": [
      "False\n",
      "True\n"
     ]
    }
   ],
   "source": [
    "# set'e devam 3\n",
    "küme1 = {\"siyah\", \"beyaz\", \"sari\", \"mavi\", \"yeşil\"}\n",
    "küme2 = {\"siyah\", \"beyaz\", \"sari\", \"pembe\", \"gri\"} \n",
    "print(\"gri\" in küme1)\n",
    "print(\"gri\" in küme1.union(küme2))"
   ]
  },
  {
   "cell_type": "code",
   "execution_count": 23,
   "metadata": {},
   "outputs": [
    {
     "name": "stdout",
     "output_type": "stream",
     "text": [
      "<class 'dict'>\n"
     ]
    }
   ],
   "source": [
    "# not\n",
    "bosliste1 = []\n",
    "bosliste2 = list()\n",
    "\n",
    "bosdemet1 = ()\n",
    "bosdemet2 = tuple()\n",
    "\n",
    "boskume1 = set()\n",
    "boskume2 = {} # ! bu bir boş küme değil sözlüktür.\n",
    "print(type(boskume2))\n"
   ]
  }
 ],
 "metadata": {
  "kernelspec": {
   "display_name": "Python 3",
   "language": "python",
   "name": "python3"
  },
  "language_info": {
   "codemirror_mode": {
    "name": "ipython",
    "version": 3
   },
   "file_extension": ".py",
   "mimetype": "text/x-python",
   "name": "python",
   "nbconvert_exporter": "python",
   "pygments_lexer": "ipython3",
   "version": "3.11.1"
  },
  "orig_nbformat": 4,
  "vscode": {
   "interpreter": {
    "hash": "5ffd7eb2cebf9ac436b5021ba01877e9cee6b03524e01bf8c8637d3e64111215"
   }
  }
 },
 "nbformat": 4,
 "nbformat_minor": 2
}
