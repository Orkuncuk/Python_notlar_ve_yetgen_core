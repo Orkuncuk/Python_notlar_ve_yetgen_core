{
 "cells": [
  {
   "cell_type": "code",
   "execution_count": 2,
   "metadata": {},
   "outputs": [
    {
     "name": "stdout",
     "output_type": "stream",
     "text": [
      "<class 'tuple'>\n",
      "5\n"
     ]
    }
   ],
   "source": [
    "# tuple - demet\n",
    "demet = (\"siyah\", \"beyaz\", \"sari\", \"mavi\", \"yeşil\") \n",
    "print(type(demet))\n",
    "print(len(demet))\n",
    "# tuple'ın string'den farkı tuple'ın herhangi bir elamını silemezsin,değiştiremezsin ve yeni bir eleman ekleyemezsin.\n"
   ]
  },
  {
   "cell_type": "code",
   "execution_count": 6,
   "metadata": {},
   "outputs": [
    {
     "name": "stdout",
     "output_type": "stream",
     "text": [
      "<class 'set'>\n",
      "5\n"
     ]
    }
   ],
   "source": [
    "# set - küme\n",
    "# kümeler sırarsız bir veri yapısıdır.\n",
    "# bir eleman yalnızca bir kere bulunabilir.\n",
    "küme = {\"siyah\", \"beyaz\", \"sari\", \"mavi\", \"yeşil\"}\n",
    "print(type(küme))\n",
    "print(len(küme))"
   ]
  },
  {
   "cell_type": "code",
   "execution_count": 16,
   "metadata": {},
   "outputs": [
    {
     "name": "stdout",
     "output_type": "stream",
     "text": [
      "siyah\n",
      "sari\n",
      "yeşil\n",
      "beyaz\n",
      "mavi\n",
      "{'siyah', 'sari', 'yeşil', 'beyaz', 'pembe', 'mavi'}\n",
      "{'siyah', 'yeşil', 'beyaz', 'pembe', 'mavi'}\n",
      "{'siyah', 'yeşil', 'beyaz', 'pembe', 'mavi'}\n"
     ]
    }
   ],
   "source": [
    "# set'e devam\n",
    "küme = {\"siyah\", \"beyaz\", \"sari\", \"mavi\", \"yeşil\"}\n",
    "for renk in küme:\n",
    "    print(renk) # fark ettiysen sırasıyla yazmadı.\n",
    "küme.add(\"pembe\")\n",
    "print(küme)\n",
    "küme.remove(\"sari\") # eğer sari yoksa bu kod hata verir.\n",
    "print(küme)\n",
    "küme.discard(\"gri\") # kümede olup olmadığını bilmiyoruz ama çıkması lazım. bunu kullanarak hata almıyorsun eğer yoksa.\n",
    "print(küme)"
   ]
  },
  {
   "cell_type": "code",
   "execution_count": 20,
   "metadata": {},
   "outputs": [
    {
     "name": "stdout",
     "output_type": "stream",
     "text": [
      "{'beyaz', 'siyah', 'sari'}\n",
      "{'siyah', 'sari', 'beyaz', 'pembe', 'mavi', 'gri', 'yeşil'}\n",
      "{'mavi', 'yeşil'}\n",
      "{'gri', 'pembe'}\n"
     ]
    }
   ],
   "source": [
    "# set'e devam 2\n",
    "küme1 = {\"siyah\", \"beyaz\", \"sari\", \"mavi\", \"yeşil\"}\n",
    "küme2 = {\"siyah\", \"beyaz\", \"sari\", \"pembe\", \"gri\"}\n",
    "print(küme1.intersection(küme2))\n",
    "print(küme1.union(küme2))\n",
    "print(küme1.difference(küme2))\n",
    "print(küme2.difference(küme1))"
   ]
  },
  {
   "cell_type": "code",
   "execution_count": 22,
   "metadata": {},
   "outputs": [
    {
     "name": "stdout",
     "output_type": "stream",
     "text": [
      "False\n",
      "True\n"
     ]
    }
   ],
   "source": [
    "# set'e devam 3\n",
    "küme1 = {\"siyah\", \"beyaz\", \"sari\", \"mavi\", \"yeşil\"}\n",
    "küme2 = {\"siyah\", \"beyaz\", \"sari\", \"pembe\", \"gri\"} \n",
    "print(\"gri\" in küme1)\n",
    "print(\"gri\" in küme1.union(küme2))"
   ]
  },
  {
   "cell_type": "code",
   "execution_count": 23,
   "metadata": {},
   "outputs": [
    {
     "name": "stdout",
     "output_type": "stream",
     "text": [
      "<class 'dict'>\n"
     ]
    }
   ],
   "source": [
    "# not\n",
    "bosliste1 = []\n",
    "bosliste2 = list()\n",
    "\n",
    "bosdemet1 = ()\n",
    "bosdemet2 = tuple()\n",
    "\n",
    "boskume1 = set()\n",
    "boskume2 = {} # ! bu bir boş küme değil sözlüktür.\n",
    "print(type(boskume2))\n"
   ]
  }
 ],
 "metadata": {
  "kernelspec": {
   "display_name": "Python 3",
   "language": "python",
   "name": "python3"
  },
  "language_info": {
   "codemirror_mode": {
    "name": "ipython",
    "version": 3
   },
   "file_extension": ".py",
   "mimetype": "text/x-python",
   "name": "python",
   "nbconvert_exporter": "python",
   "pygments_lexer": "ipython3",
   "version": "3.11.1"
  },
  "orig_nbformat": 4,
  "vscode": {
   "interpreter": {
    "hash": "5ffd7eb2cebf9ac436b5021ba01877e9cee6b03524e01bf8c8637d3e64111215"
   }
  }
 },
 "nbformat": 4,
 "nbformat_minor": 2
}
