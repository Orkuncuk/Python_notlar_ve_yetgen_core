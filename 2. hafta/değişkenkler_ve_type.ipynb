{
 "cells": [
  {
   "cell_type": "code",
   "execution_count": 4,
   "metadata": {},
   "outputs": [
    {
     "name": "stdout",
     "output_type": "stream",
     "text": [
      "a\n",
      "yetgen\n",
      "yetgen\n",
      "yetgen\n",
      "yetgen core\n",
      "yetgen core\n",
      "yetgen core\n"
     ]
    }
   ],
   "source": [
    "# değişkenler\n",
    "a = \"yetgen\"\n",
    "print(\"a\") # değişkenler tırnak içerisinde yazılmaz.\n",
    "print(a)\n",
    "print(a)\n",
    "print(a)\n",
    "a = \"yetgen core\" # değişken değerini değistirdim ve her print içersine core yazmama gerek kalmadı.\n",
    "print(a)\n",
    "print(a)\n",
    "print(a)"
   ]
  },
  {
   "cell_type": "code",
   "execution_count": 6,
   "metadata": {},
   "outputs": [
    {
     "name": "stdout",
     "output_type": "stream",
     "text": [
      "<class 'int'>\n",
      "<class 'float'>\n",
      "<class 'complex'>\n",
      "<class 'str'>\n",
      "<class 'list'>\n",
      "<class 'dict'>\n",
      "<class 'set'>\n",
      "<class 'tuple'>\n"
     ]
    }
   ],
   "source": [
    "# type() fonksiyonu\n",
    "print(type(50))                  # Int ( tam sayılar)\n",
    "print(type(3.8))                 # Float ( ondalık sayılar)\n",
    "print(type(7 + 3j))              # Complex\n",
    "print(type('berkcan'))           # String\n",
    "print(type([2, 4, 6]))           # List\n",
    "print(type({'name':'goktug'}))   # Dictionary\n",
    "print(type({9.8, 3.14, 2.7}))    # Set\n",
    "print(type((9.8, 3.14, 2.7)))    # Tuple"
   ]
  },
  {
   "cell_type": "code",
   "execution_count": null,
   "metadata": {},
   "outputs": [],
   "source": []
  }
 ],
 "metadata": {
  "kernelspec": {
   "display_name": "Python 3",
   "language": "python",
   "name": "python3"
  },
  "language_info": {
   "codemirror_mode": {
    "name": "ipython",
    "version": 3
   },
   "file_extension": ".py",
   "mimetype": "text/x-python",
   "name": "python",
   "nbconvert_exporter": "python",
   "pygments_lexer": "ipython3",
   "version": "3.11.1"
  },
  "orig_nbformat": 4,
  "vscode": {
   "interpreter": {
    "hash": "5ffd7eb2cebf9ac436b5021ba01877e9cee6b03524e01bf8c8637d3e64111215"
   }
  }
 },
 "nbformat": 4,
 "nbformat_minor": 2
}
