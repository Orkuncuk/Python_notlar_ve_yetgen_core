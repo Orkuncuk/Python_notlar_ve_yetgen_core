{
 "cells": [
  {
   "cell_type": "code",
   "execution_count": 4,
   "metadata": {},
   "outputs": [
    {
     "name": "stdout",
     "output_type": "stream",
     "text": [
      "a\n",
      "yetgen\n",
      "yetgen\n",
      "yetgen\n",
      "yetgen core\n",
      "yetgen core\n",
      "yetgen core\n"
     ]
    }
   ],
   "source": [
    "# değişkenler\n",
    "a = \"yetgen\"\n",
    "print(\"a\") # değişkenler tırnak içerisinde yazılmaz.\n",
    "print(a)\n",
    "print(a)\n",
    "print(a)\n",
    "a = \"yetgen core\" # değişken değerini değistirdim ve her print içersine core yazmama gerek kalmadı.\n",
    "print(a)\n",
    "print(a)\n",
    "print(a)"
   ]
  }
 ],
 "metadata": {
  "kernelspec": {
   "display_name": "Python 3",
   "language": "python",
   "name": "python3"
  },
  "language_info": {
   "codemirror_mode": {
    "name": "ipython",
    "version": 3
   },
   "file_extension": ".py",
   "mimetype": "text/x-python",
   "name": "python",
   "nbconvert_exporter": "python",
   "pygments_lexer": "ipython3",
   "version": "3.11.1"
  },
  "orig_nbformat": 4,
  "vscode": {
   "interpreter": {
    "hash": "5ffd7eb2cebf9ac436b5021ba01877e9cee6b03524e01bf8c8637d3e64111215"
   }
  }
 },
 "nbformat": 4,
 "nbformat_minor": 2
}
