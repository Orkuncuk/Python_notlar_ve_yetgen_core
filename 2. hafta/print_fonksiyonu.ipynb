{
 "cells": [
  {
   "cell_type": "code",
   "execution_count": 3,
   "metadata": {},
   "outputs": [
    {
     "name": "stdout",
     "output_type": "stream",
     "text": [
      "hello world\n",
      "hello world\n",
      "hello \n",
      "world \n"
     ]
    }
   ],
   "source": [
    "# print() kullanımı\n",
    "print('hello world')\n",
    "print(\"hello world\")\n",
    "print(\"\"\"hello \n",
    "world \"\"\") # çok satırlı metin için 3 adet çift tırnak kullanılır."
   ]
  },
  {
   "cell_type": "code",
   "execution_count": 4,
   "metadata": {},
   "outputs": [
    {
     "name": "stdout",
     "output_type": "stream",
     "text": [
      "hello/world\n",
      "1 2 3\n",
      "1,2,3\n",
      "1,2,3\n"
     ]
    }
   ],
   "source": [
    "# sep parametresi\n",
    "print(\"hello\",\"world\", sep=\"/\")\n",
    "print(\"1\",\"2\",\"3\")\n",
    "print(\"1\",\"2\",\"3\", sep=\",\")\n",
    "print(\"1,2,3\")"
   ]
  },
  {
   "cell_type": "code",
   "execution_count": 6,
   "metadata": {},
   "outputs": [
    {
     "name": "stdout",
     "output_type": "stream",
     "text": [
      "göktuğ beni seviyormuş!"
     ]
    }
   ],
   "source": [
    "# end parametresi\n",
    "print(\"göktuğ beni seviyormuş\", end=\"!\")"
   ]
  },
  {
   "cell_type": "code",
   "execution_count": 5,
   "metadata": {},
   "outputs": [
    {
     "name": "stdout",
     "output_type": "stream",
     "text": [
      "orkun'un evi\n",
      "orkun\"un evi\n",
      "orkun\\un evi\n",
      "yetgen\n",
      "core\n",
      "yetgen\tcore\n"
     ]
    }
   ],
   "source": [
    "# not: \\n, \\\", \\', \\\\, \\t\n",
    "print('orkun\\'un evi')\n",
    "print('orkun\\\"un evi')\n",
    "print('orkun\\\\un evi')\n",
    "print('yetgen\\ncore')\n",
    "print('yetgen\\tcore')\n"
   ]
  }
 ],
 "metadata": {
  "kernelspec": {
   "display_name": "Python 3",
   "language": "python",
   "name": "python3"
  },
  "language_info": {
   "codemirror_mode": {
    "name": "ipython",
    "version": 3
   },
   "file_extension": ".py",
   "mimetype": "text/x-python",
   "name": "python",
   "nbconvert_exporter": "python",
   "pygments_lexer": "ipython3",
   "version": "3.11.1"
  },
  "orig_nbformat": 4,
  "vscode": {
   "interpreter": {
    "hash": "5ffd7eb2cebf9ac436b5021ba01877e9cee6b03524e01bf8c8637d3e64111215"
   }
  }
 },
 "nbformat": 4,
 "nbformat_minor": 2
}
