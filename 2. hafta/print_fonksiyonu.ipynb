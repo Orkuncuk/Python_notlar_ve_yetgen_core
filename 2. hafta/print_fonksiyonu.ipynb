{
 "cells": [
  {
   "cell_type": "code",
   "execution_count": 2,
   "metadata": {},
   "outputs": [
    {
     "ename": "SyntaxError",
     "evalue": "unterminated string literal (detected at line 3) (1613043934.py, line 3)",
     "output_type": "error",
     "traceback": [
      "\u001b[1;36m  Cell \u001b[1;32mIn[2], line 3\u001b[1;36m\u001b[0m\n\u001b[1;33m    print(\"hello\u001b[0m\n\u001b[1;37m          ^\u001b[0m\n\u001b[1;31mSyntaxError\u001b[0m\u001b[1;31m:\u001b[0m unterminated string literal (detected at line 3)\n"
     ]
    }
   ],
   "source": [
    "# print() kullanımı\n",
    "print('hello world')\n",
    "print(\"hello world\")\n",
    "print(\"\"\"hello \n",
    "world \"\"\") # çok satırlı metin için 3 adet çift tırnak kullanılır."
   ]
  },
  {
   "cell_type": "code",
   "execution_count": 10,
   "metadata": {},
   "outputs": [
    {
     "name": "stdout",
     "output_type": "stream",
     "text": [
      "hello/world\n",
      "1 2 3\n",
      "1,2,3\n",
      "1,2,3\n"
     ]
    }
   ],
   "source": [
    "# sep parametresi\n",
    "print(\"hello\",\"world\", sep=\"/\")\n",
    "print(\"1\",\"2\",\"3\")\n",
    "print(\"1\",\"2\",\"3\", sep=\",\")\n",
    "print(\"1,2,3\")"
   ]
  },
  {
   "cell_type": "code",
   "execution_count": 11,
   "metadata": {},
   "outputs": [
    {
     "name": "stdout",
     "output_type": "stream",
     "text": [
      "merve beni seviyormuş!"
     ]
    }
   ],
   "source": [
    "# end parametresi\n",
    "print(\"merve beni seviyormuş\", end=\"!\")"
   ]
  }
 ],
 "metadata": {
  "kernelspec": {
   "display_name": "Python 3",
   "language": "python",
   "name": "python3"
  },
  "language_info": {
   "codemirror_mode": {
    "name": "ipython",
    "version": 3
   },
   "file_extension": ".py",
   "mimetype": "text/x-python",
   "name": "python",
   "nbconvert_exporter": "python",
   "pygments_lexer": "ipython3",
   "version": "3.11.1"
  },
  "orig_nbformat": 4,
  "vscode": {
   "interpreter": {
    "hash": "5ffd7eb2cebf9ac436b5021ba01877e9cee6b03524e01bf8c8637d3e64111215"
   }
  }
 },
 "nbformat": 4,
 "nbformat_minor": 2
}
