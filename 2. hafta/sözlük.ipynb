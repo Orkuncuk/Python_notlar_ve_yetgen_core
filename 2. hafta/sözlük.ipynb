{
 "cells": [
  {
   "cell_type": "code",
   "execution_count": 2,
   "metadata": {},
   "outputs": [
    {
     "name": "stdout",
     "output_type": "stream",
     "text": [
      "20\n",
      "{'isim': 'ahmet', 'yas': 20, 'cinsiyet': 'm', 'hobiler': ['resim', 'kitap', 'yoga']}\n",
      "{'isim': 'ahmet', 'yas': 30, 'cinsiyet': 'M', 'hobiler': ['resim', 'kitap', 'yoga']}\n",
      "{'isim': 'ahmet', 'yas': 30, 'cinsiyet': 'M', 'hobiler': ['resim', 'kitap', 'yoga'], 'id': 12345}\n",
      "{'isim': 'ahmet', 'yas': 30, 'cinsiyet': 'M', 'hobiler': ['resim', 'kitap', 'yoga']}\n",
      "ahmet\n",
      "hayir yok bebis\n"
     ]
    }
   ],
   "source": [
    "# sözlük 1\n",
    "# sırasız veri tutar.\n",
    "\n",
    "birey = {\"isim\" : \"orkun\" ,\"yas\" : 20 ,\"cinsiyet\" : \"m\" ,\"hobiler\" : [\"resim\", \"kitap\", \"yoga\"]}\n",
    "print(birey[\"yas\"])\n",
    "birey[\"isim\"] = \"ahmet\" # bir value'yı değiştirmemizi sağlar\n",
    "print(birey)\n",
    "birey.update({\"yas\" : 30 ,\"cinsiyet\" : \"M\"}) # çoklu değer değiştirmeye yarar.\n",
    "print(birey)\n",
    "birey[\"id\"] = 12345 # yeni key ve value eklememizi sağlar.\n",
    "print(birey)\n",
    "del birey[\"id\"] # bir şeyi silmeye yarar.\n",
    "print(birey)\n",
    "print(birey.get(\"isim\")) # sözlük içinde kodda hata almadan bir şeyin olup olmadığını kontrol edebilirsin.\n",
    "print(birey.get(\"id\", \"hayir yok bebis\")) # eğer bulunamadıysa virgülden sonra yazdığım şeyi çıktı yapıyor."
   ]
  },
  {
   "cell_type": "code",
   "execution_count": 17,
   "metadata": {},
   "outputs": [
    {
     "name": "stdout",
     "output_type": "stream",
     "text": [
      "orkun\n",
      "20\n",
      "m\n",
      "['resim', 'kitap', 'yoga']\n",
      "dict_values(['orkun', 20, 'm', ['resim', 'kitap', 'yoga']])\n",
      "isim\n",
      "yas\n",
      "cinsiyet\n",
      "hobiler\n",
      "dict_keys(['isim', 'yas', 'cinsiyet', 'hobiler'])\n",
      "dict_items([('isim', 'orkun'), ('yas', 20), ('cinsiyet', 'm'), ('hobiler', ['resim', 'kitap', 'yoga'])])\n"
     ]
    }
   ],
   "source": [
    "# sözlük bir tık ileri konu örnekli\n",
    "birey = {\"isim\" : \"orkun\" ,\"yas\" : 20 ,\"cinsiyet\" : \"m\" ,\"hobiler\" : [\"resim\", \"kitap\", \"yoga\"]}\n",
    "for x in birey: # buradaki x anahtarların(keys) yerine geçiyor değerlerin(values) değil.\n",
    "    print(birey[x]) # yani değerler için böyle bir şey yapmalıyız nasıl çalıştığını şuan ben de bilmiyorum :D\n",
    "\n",
    "print(birey.values())\n",
    "\n",
    "for x2 in birey:\n",
    "    print(x2) # burada olduğu gibi sadece anahtarları verdi.\n",
    "\n",
    "print(birey.keys())\n",
    "\n",
    "print(birey.items())"
   ]
  },
  {
   "cell_type": "code",
   "execution_count": 1,
   "metadata": {},
   "outputs": [
    {
     "name": "stdout",
     "output_type": "stream",
     "text": [
      "[('Java', 14), ('Python', 3), ('JavaScript', 6)]\n"
     ]
    }
   ],
   "source": [
    "languages = ['Java', 'Python', 'JavaScript']\n",
    "versions = [14, 3, 6]\n",
    "\n",
    "result = zip(languages, versions)\n",
    "print(list(result))\n",
    "\n",
    "# Output: [('Java', 14), ('Python', 3), ('JavaScript', 6)]"
   ]
  }
 ],
 "metadata": {
  "kernelspec": {
   "display_name": "Python 3",
   "language": "python",
   "name": "python3"
  },
  "language_info": {
   "codemirror_mode": {
    "name": "ipython",
    "version": 3
   },
   "file_extension": ".py",
   "mimetype": "text/x-python",
   "name": "python",
   "nbconvert_exporter": "python",
   "pygments_lexer": "ipython3",
   "version": "3.11.1"
  },
  "orig_nbformat": 4,
  "vscode": {
   "interpreter": {
    "hash": "5ffd7eb2cebf9ac436b5021ba01877e9cee6b03524e01bf8c8637d3e64111215"
   }
  }
 },
 "nbformat": 4,
 "nbformat_minor": 2
}
