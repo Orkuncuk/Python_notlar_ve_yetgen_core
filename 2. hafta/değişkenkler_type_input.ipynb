{
 "cells": [
  {
   "cell_type": "code",
   "execution_count": 4,
   "metadata": {},
   "outputs": [
    {
     "name": "stdout",
     "output_type": "stream",
     "text": [
      "a\n",
      "yetgen\n",
      "yetgen\n",
      "yetgen\n",
      "yetgen core\n",
      "yetgen core\n",
      "yetgen core\n"
     ]
    }
   ],
   "source": [
    "# değişkenler\n",
    "a = \"yetgen\"\n",
    "print(\"a\") # değişkenler tırnak içerisinde yazılmaz.\n",
    "print(a)\n",
    "print(a)\n",
    "print(a)\n",
    "a = \"yetgen core\" # değişken değerini değistirdim ve her print içersine core yazmama gerek kalmadı.\n",
    "print(a)\n",
    "print(a)\n",
    "print(a)"
   ]
  },
  {
   "cell_type": "code",
   "execution_count": 6,
   "metadata": {},
   "outputs": [
    {
     "name": "stdout",
     "output_type": "stream",
     "text": [
      "<class 'int'>\n",
      "<class 'float'>\n",
      "<class 'complex'>\n",
      "<class 'str'>\n",
      "<class 'list'>\n",
      "<class 'dict'>\n",
      "<class 'set'>\n",
      "<class 'tuple'>\n"
     ]
    }
   ],
   "source": [
    "# type() fonksiyonu\n",
    "print(type(50))                  # Int ( tam sayılar)\n",
    "print(type(3.8))                 # Float ( ondalık sayılar)\n",
    "print(type(7 + 3j))              # Complex\n",
    "print(type('berkcan'))           # String\n",
    "print(type([2, 4, 6]))           # List\n",
    "print(type({'name':'goktug'}))   # Dictionary\n",
    "print(type({9.8, 3.14, 2.7}))    # Set\n",
    "print(type((9.8, 3.14, 2.7)))    # Tuple"
   ]
  },
  {
   "cell_type": "code",
   "execution_count": 5,
   "metadata": {},
   "outputs": [
    {
     "name": "stdout",
     "output_type": "stream",
     "text": [
      "isimsoyisim\n",
      "orkun   aktas  20\n",
      "orkun  aktas 20\n"
     ]
    }
   ],
   "source": [
    "# string\n",
    "isim = \"orkun\"\n",
    "soyisim = \" aktas\"\n",
    "yas = \"20\"\n",
    "print(\"isim\" + \"\" + \"soyisim\") # + yas diyemiyorum değişken tipleri farklı olduğu için.\n",
    "print(isim, \"\" ,soyisim, \"\" ,yas)\n",
    "print(f\"{isim} {soyisim} {yas}\")\n",
    "# üstteki iki yol ile farklı veri türlerini birleştirebilirsin."
   ]
  }
 ],
 "metadata": {
  "kernelspec": {
   "display_name": "Python 3",
   "language": "python",
   "name": "python3"
  },
  "language_info": {
   "codemirror_mode": {
    "name": "ipython",
    "version": 3
   },
   "file_extension": ".py",
   "mimetype": "text/x-python",
   "name": "python",
   "nbconvert_exporter": "python",
   "pygments_lexer": "ipython3",
   "version": "3.11.1"
  },
  "orig_nbformat": 4,
  "vscode": {
   "interpreter": {
    "hash": "5ffd7eb2cebf9ac436b5021ba01877e9cee6b03524e01bf8c8637d3e64111215"
   }
  }
 },
 "nbformat": 4,
 "nbformat_minor": 2
}
