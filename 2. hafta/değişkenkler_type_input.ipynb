{
 "cells": [
  {
   "cell_type": "code",
   "execution_count": 4,
   "metadata": {},
   "outputs": [
    {
     "name": "stdout",
     "output_type": "stream",
     "text": [
      "a\n",
      "yetgen\n",
      "yetgen\n",
      "yetgen\n",
      "yetgen core\n",
      "yetgen core\n",
      "yetgen core\n"
     ]
    }
   ],
   "source": [
    "# değişkenler\n",
    "a = \"yetgen\"\n",
    "print(\"a\") # değişkenler tırnak içerisinde yazılmaz.\n",
    "print(a)\n",
    "print(a)\n",
    "print(a)\n",
    "a = \"yetgen core\" # değişken değerini değistirdim ve her print içersine core yazmama gerek kalmadı.\n",
    "print(a)\n",
    "print(a)\n",
    "print(a)"
   ]
  },
  {
   "cell_type": "code",
   "execution_count": 6,
   "metadata": {},
   "outputs": [
    {
     "name": "stdout",
     "output_type": "stream",
     "text": [
      "<class 'int'>\n",
      "<class 'float'>\n",
      "<class 'complex'>\n",
      "<class 'str'>\n",
      "<class 'list'>\n",
      "<class 'dict'>\n",
      "<class 'set'>\n",
      "<class 'tuple'>\n"
     ]
    }
   ],
   "source": [
    "# type() fonksiyonu\n",
    "print(type(50))                  # Int ( tam sayılar)\n",
    "print(type(3.8))                 # Float ( ondalık sayılar)\n",
    "print(type(7 + 3j))              # Complex\n",
    "print(type('berkcan'))           # String\n",
    "print(type([2, 4, 6]))           # List\n",
    "print(type({'name':'goktug'}))   # Dictionary\n",
    "print(type({9.8, 3.14, 2.7}))    # Set\n",
    "print(type((9.8, 3.14, 2.7)))    # Tuple"
   ]
  },
  {
   "cell_type": "code",
   "execution_count": 3,
   "metadata": {},
   "outputs": [
    {
     "name": "stdout",
     "output_type": "stream",
     "text": [
      "11\n",
      "a\n",
      "m\n",
      "abd\n",
      "abd\n",
      "abdurrahman\n",
      "abdurrahman\n",
      "adramn\n",
      "namharrudba\n"
     ]
    }
   ],
   "source": [
    "# string 1\n",
    "isim = \"abdurrahman\"\n",
    "print(len(isim)) # karakter sayısını gösterir\n",
    "print(isim[0]) # spesifik karakterlere erişebilmemizi sağlar\n",
    "print(isim[-3])\n",
    "print(isim[0:3]) # 1. sınır dahil 2. sınır dahil değildir.\n",
    "print(isim[:3])\n",
    "print(isim[:])\n",
    "print(isim[0:])\n",
    "print(isim[::2])\n",
    "print(isim[::-1])"
   ]
  },
  {
   "cell_type": "code",
   "execution_count": 32,
   "metadata": {},
   "outputs": [
    {
     "name": "stdout",
     "output_type": "stream",
     "text": [
      "isimsoyisim\n",
      "orkun  aktas  20\n",
      "orkun aktas 20\n",
      "10 20\n"
     ]
    }
   ],
   "source": [
    "# string 2 \n",
    "isim = \"orkun\"\n",
    "soyisim = \"aktas\"\n",
    "yas = \"20\"\n",
    "print(\"isim\" + \"\" + \"soyisim\") # + yas diyemiyorum değişken tipleri farklı olduğu için.\n",
    "print(isim, \"\" ,soyisim, \"\" ,yas)\n",
    "print(f\"{isim} {soyisim} {yas}\")\n",
    "print(f\"{len(isim + soyisim)} {yas}\")\n",
    "# üstteki iki yol ile farklı veri türlerini birleştirebilirsin."
   ]
  },
  {
   "cell_type": "code",
   "execution_count": 13,
   "metadata": {},
   "outputs": [
    {
     "name": "stdout",
     "output_type": "stream",
     "text": [
      "yetgen CORE egitim\n",
      "YETGEN CORE EGITIM\n",
      "yetgen core egitim\n",
      "Yetgen Core Egitim\n",
      "Yetgen core egitim\n",
      "True\n",
      "False\n",
      "7\n",
      "yatgan CORE agitim\n"
     ]
    }
   ],
   "source": [
    "# string 3 bazı fonksiyon örnekleri\n",
    "deneme = \"yetgen CORE egitim\"\n",
    "print(deneme)\n",
    "print(deneme.upper())\n",
    "print(deneme.lower())\n",
    "print(deneme.title())\n",
    "print(deneme.capitalize())\n",
    "print(deneme.startswith(\"yetgen\")) # değişken yetgen ile başladığı için TRUE değerini verdi.\n",
    "print(deneme.endswith(\"bla\")) # değişken bla ile bitmediği için fALSE değerini verdi.\n",
    "print(deneme.find(\"CORE\"))\n",
    "print(deneme.replace(\"e\" , \"a\"))\n"
   ]
  },
  {
   "cell_type": "code",
   "execution_count": 38,
   "metadata": {},
   "outputs": [
    {
     "name": "stdout",
     "output_type": "stream",
     "text": [
      "my name is aktaş and ı am 20 years old.\n",
      "my name is aktaş and I am 20 years old.\n",
      "benim adım aktaş ve 20 yaşındayım.\n"
     ]
    }
   ],
   "source": [
    "# string 4 kısacık bir formating\n",
    "person = {'isim': 'aktaş', 'old': 20}\n",
    "sentence = \"my name is\" + \" \" + person['isim'] + \" \" + \"and ı am\" + \" \" + str(person['old']) + \" \" + \"years old.\"\n",
    "print(sentence)\n",
    "sentence2 = \"my name is {} and I am {} years old.\".format(person['isim'], person['old'])\n",
    "print(sentence2)\n",
    "print(f\"benim adım {person['isim']} ve {person['old']} yaşındayım.\") # daha kolay bir yolu bence."
   ]
  },
  {
   "cell_type": "code",
   "execution_count": 1,
   "metadata": {},
   "outputs": [
    {
     "name": "stdout",
     "output_type": "stream",
     "text": [
      "merhaba orkun\n",
      "merhaba orkun\n",
      "merhaba orkun\n",
      "merhabaorkun\n"
     ]
    }
   ],
   "source": [
    "# input() fonksiyonu\n",
    "isim = input(\"isim giriniz :\")\n",
    "print(f\"merhaba {isim}\")\n",
    "print(\"merhaba\" , isim)\n",
    "print(\"merhaba\" + \" \" + isim)\n",
    "print(\"merhaba\" + isim)"
   ]
  },
  {
   "cell_type": "code",
   "execution_count": 13,
   "metadata": {},
   "outputs": [
    {
     "name": "stdout",
     "output_type": "stream",
     "text": [
      "33\n"
     ]
    }
   ],
   "source": [
    "# input() fonksiyonu2\n",
    "sayi1 = input(\" birinci sayıyı giriniz :\")\n",
    "sayi2 = input(\"ikinci sayıyı giriniz :\")\n",
    "print(sayi1 + sayi2)\n",
    "# sayıları toplamak yerine yan yana yazdı çünkü input direk olarak string olarak taımlı."
   ]
  },
  {
   "cell_type": "code",
   "execution_count": 28,
   "metadata": {},
   "outputs": [
    {
     "name": "stdout",
     "output_type": "stream",
     "text": [
      "6\n",
      "3 + 3 = 6\n",
      "6\n"
     ]
    }
   ],
   "source": [
    "# input() fonskiyon3\n",
    "sayi1 = int(input(\" birinci sayıyı giriniz :\"))\n",
    "sayi2 = int(input(\"ikinci sayıyı giriniz :\"))\n",
    "print(sayi1 + sayi2)\n",
    "print(f\"{sayi1} + {sayi2} = {sayi1 + sayi2}\") # bu şekilde de yapabilirsin\n",
    "toplam = sayi1 + sayi2\n",
    "print(toplam) # ayrıca bu şekilde de yapabilirsin :)\n",
    "# input değerinin int olduğunu belirttiğim zaman yan yana yazmak yerine topladı."
   ]
  }
 ],
 "metadata": {
  "kernelspec": {
   "display_name": "Python 3",
   "language": "python",
   "name": "python3"
  },
  "language_info": {
   "codemirror_mode": {
    "name": "ipython",
    "version": 3
   },
   "file_extension": ".py",
   "mimetype": "text/x-python",
   "name": "python",
   "nbconvert_exporter": "python",
   "pygments_lexer": "ipython3",
   "version": "3.11.1"
  },
  "orig_nbformat": 4,
  "vscode": {
   "interpreter": {
    "hash": "5ffd7eb2cebf9ac436b5021ba01877e9cee6b03524e01bf8c8637d3e64111215"
   }
  }
 },
 "nbformat": 4,
 "nbformat_minor": 2
}
