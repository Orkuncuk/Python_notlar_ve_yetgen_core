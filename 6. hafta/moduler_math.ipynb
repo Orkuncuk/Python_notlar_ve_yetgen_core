{
 "cells": [
  {
   "cell_type": "code",
   "execution_count": 12,
   "metadata": {},
   "outputs": [
    {
     "name": "stdout",
     "output_type": "stream",
     "text": [
      "120\n",
      "2.718281828459045\n",
      "3.141592653589793\n",
      "3\n",
      "3\n",
      "4\n",
      "4\n",
      "5\n",
      "10.0\n",
      "81.0\n",
      "0.6309297535714574\n",
      "4.0\n",
      "4.0\n",
      "0.0\n",
      "2.0\n",
      "1.8708286933869707\n",
      "1.0\n",
      "6.123233995736766e-17\n",
      "1.633123935319537e+16\n"
     ]
    }
   ],
   "source": [
    "import math\n",
    "print(math.factorial(5))\n",
    "print(math.e)\n",
    "print(math.pi)\n",
    "print(math.floor(3.5))\n",
    "print(math.floor(3.9999))\n",
    "print(math.ceil(3.8))\n",
    "print(math.ceil(3.0001))\n",
    "print (math.gcd(5,10)) # verilen iki sayının en büyük ortak bölenini bulamı sağlar\n",
    "print(math.fabs(-10)) # mutlak değer çıktısı veriyor\n",
    "print(math.pow(3,4))\n",
    "print (math.log(2,3))\n",
    "print (math.log2(16))\n",
    "print (math.log10(10000))\n",
    "print(math.sqrt(0)) # karekök almanı sağlar\n",
    "print(math.sqrt(4))\n",
    "print(math.sqrt(3.5))\n",
    "a = math.pi/2\n",
    "print (math.sin(a))\n",
    "print (math.cos(a))\n",
    "print (math.tan(a))"
   ]
  }
 ],
 "metadata": {
  "kernelspec": {
   "display_name": "Python 3",
   "language": "python",
   "name": "python3"
  },
  "language_info": {
   "codemirror_mode": {
    "name": "ipython",
    "version": 3
   },
   "file_extension": ".py",
   "mimetype": "text/x-python",
   "name": "python",
   "nbconvert_exporter": "python",
   "pygments_lexer": "ipython3",
   "version": "3.11.1"
  },
  "orig_nbformat": 4
 },
 "nbformat": 4,
 "nbformat_minor": 2
}
