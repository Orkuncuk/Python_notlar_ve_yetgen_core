{
 "cells": [
  {
   "cell_type": "code",
   "execution_count": 18,
   "metadata": {},
   "outputs": [
    {
     "name": "stdout",
     "output_type": "stream",
     "text": [
      "[37, 307, 317, 337, 347, 367, 397, 3037, 3067, 3137, 3167, 3187, 3217, 3257, 3307, 3347, 3407, 3457, 3467, 3517, 3527, 3547, 3557, 3607, 3617, 3637, 3677, 3697, 3727, 3767, 3797, 3847, 3877, 3907, 3917, 3947, 3967, 30047, 30097, 30137, 30187, 30197, 30307, 30347, 30367, 30427, 30467, 30497, 30517, 30557, 30577, 30637, 30677, 30697, 30707, 30727, 30757, 30817, 30937, 30977, 31147, 31177, 31237, 31247, 31267, 31277, 31307, 31327, 31337, 31357, 31387, 31397, 31477, 31517, 31547, 31567, 31607, 31627, 31657, 31667, 31687, 31727, 31817, 31847, 31907, 31957, 32027, 32057, 32077, 32117, 32237, 32257, 32297, 32327, 32377, 32467, 32497, 32507, 32537, 32587, 32647, 32687, 32707, 32717, 32797, 32887, 32917, 32957, 32987, 33037, 33107, 33247, 33287, 33317, 33347, 33377, 33427, 33457, 33487, 33547, 33577, 33587, 33617, 33637, 33647, 33757, 33767, 33797, 33827, 33857, 33937, 33967, 33997, 34057, 34127, 34147, 34157, 34217, 34267, 34297, 34327, 34337, 34367, 34457, 34487, 34537, 34607, 34667, 34687, 34747, 34757, 34807, 34847, 34877, 34897, 35027, 35107, 35117, 35227, 35257, 35267, 35317, 35327, 35407, 35437, 35447, 35507, 35527, 35537, 35597, 35617, 35677, 35747, 35797, 35837, 35897, 35977, 36007, 36017, 36037, 36067, 36097, 36107, 36137, 36187, 36217, 36277, 36307, 36457, 36467, 36497, 36527, 36587, 36607, 36637, 36677, 36697, 36767, 36787, 36847, 36857, 36877, 36887, 36947, 36997, 37057, 37087, 37097, 37117, 37217, 37277, 37307, 37337, 37357, 37397, 37447, 37507, 37517, 37537, 37547, 37567, 37607, 37657, 37717, 37747, 37847, 37897, 37907, 37957, 37967, 37987, 37997, 38047, 38167, 38177, 38197, 38237, 38287, 38317, 38327, 38377, 38447, 38557, 38567, 38677, 38707, 38737, 38747, 38767, 38867, 38917, 38977, 39047, 39097, 39107, 39157, 39217, 39227, 39317, 39367, 39397, 39607, 39667, 39727, 39827, 39847, 39857, 39877, 39887, 39937]\n"
     ]
    }
   ],
   "source": [
    "# ilk 10000 asal sayıdan 3 ile başlayıp 7 ile bitenleri buldum.\n",
    "liste = []\n",
    "liste.append(2)\n",
    "a = 3\n",
    "while True:\n",
    "    deger = True\n",
    "    for i in range(2,int(a**0.5) +1):\n",
    "        if a % i == 0:\n",
    "            deger = False\n",
    "            break\n",
    "    if deger == True:\n",
    "        liste.append(a)\n",
    "        if len(liste) == 10000:\n",
    "            break\n",
    "    a+= 1\n",
    "liste2 = []\n",
    "for i in liste:\n",
    "    stri = str(i)\n",
    "    if stri.startswith(\"3\") and stri.endswith(\"7\"):\n",
    "        liste2.append(i)\n",
    "\n",
    "print(liste2)\n"
   ]
  },
  {
   "cell_type": "code",
   "execution_count": 4,
   "metadata": {},
   "outputs": [
    {
     "name": "stdout",
     "output_type": "stream",
     "text": [
      "[153, 370, 371, 407]\n"
     ]
    }
   ],
   "source": [
    "liste = []\n",
    "for i in range(100,1000):\n",
    "    toplam = 0\n",
    "    sayi = i\n",
    "    while sayi != 0:\n",
    "        basamak = sayi % 10\n",
    "        toplam += basamak**3\n",
    "        sayi //= 10\n",
    "    if toplam == i:\n",
    "        liste.append(i)\n",
    "print(liste)\n",
    "# 3 basamaklı sayıların rakamlarının küplerinin toplamı kendilerine eşit."
   ]
  },
  {
   "cell_type": "code",
   "execution_count": 23,
   "metadata": {},
   "outputs": [
    {
     "name": "stdout",
     "output_type": "stream",
     "text": [
      "[1, 1, 2, 3, 5, 8, 13, 21, 34, 55, 89, 144, 233, 377, 610, 987, 1597, 2584, 4181, 6765, 10946, 17711, 28657, 46368, 75025, 121393, 196418, 317811, 514229, 832040, 1346269, 2178309, 3524578, 5702887, 9227465, 14930352, 24157817, 39088169, 63245986, 102334155, 165580141, 267914296, 433494437, 701408733, 1134903170, 1836311903, 2971215073, 4807526976, 7778742049, 12586269025, 20365011074, 32951280099, 53316291173, 86267571272, 139583862445, 225851433717, 365435296162, 591286729879, 956722026041, 1548008755920, 2504730781961, 4052739537881, 6557470319842, 10610209857723, 17167680177565, 27777890035288, 44945570212853, 72723460248141, 117669030460994, 190392490709135, 308061521170129, 498454011879264, 806515533049393, 1304969544928657, 2111485077978050, 3416454622906707, 5527939700884757, 8944394323791464, 14472334024676221, 23416728348467685, 37889062373143906, 61305790721611591, 99194853094755497, 160500643816367088, 259695496911122585, 420196140727489673, 679891637638612258, 1100087778366101931, 1779979416004714189, 2880067194370816120, 4660046610375530309, 7540113804746346429, 12200160415121876738, 19740274219868223167, 31940434634990099905, 51680708854858323072, 83621143489848422977, 135301852344706746049, 218922995834555169026, 354224848179261915075]\n",
      "1 1 2 3 5 8 13 21 34 55 89 144 233 377 610 987 hello - world\n",
      "a\n"
     ]
    }
   ],
   "source": [
    "# ilk 100 fibonacciyi bul\n",
    "fibonacci_list = [1,1]\n",
    "index = 2\n",
    "while len(fibonacci_list) != 100:\n",
    "    fibonacci_list.append(fibonacci_list[index-2]+fibonacci_list[index-1])\n",
    "    index+= 1\n",
    "print(fibonacci_list)\n",
    "a, b = 0,1\n",
    "while b < 1000: # diğer bir yol\n",
    "    print(b, end = \" \", flush=True )\n",
    "    a,b = b , a+b\n",
    "# bir şey deniycem[end parametresi]\n",
    "print(\"hello\" ,end=\" - \")\n",
    "print(\"world\")\n",
    "print(\"a\")\n",
    "    \n",
    "                          "
   ]
  },
  {
   "cell_type": "code",
   "execution_count": 25,
   "metadata": {},
   "outputs": [
    {
     "name": "stdout",
     "output_type": "stream",
     "text": [
      "1344719667586153181419716641724567886890850696275767987106294472017884974410332069524504824747437757\n",
      "475\n"
     ]
    }
   ],
   "source": [
    "# 100 basamaklı ilk fibonacciyi bul\n",
    "fibonacci_list = list()\n",
    "fibonacci_list.append(1)\n",
    "fibonacci_list.append(1)\n",
    "index = 2\n",
    "while True:\n",
    "    fibonacci_list.append(fibonacci_list[index-2]+fibonacci_list[index-1])\n",
    "    terim = fibonacci_list[index-2]+fibonacci_list[index-1]\n",
    "    if len(str(terim)) == 100:\n",
    "        print(terim)\n",
    "        print(index)\n",
    "        break\n",
    "    index +=1"
   ]
  },
  {
   "cell_type": "code",
   "execution_count": 34,
   "metadata": {},
   "outputs": [
    {
     "name": "stdout",
     "output_type": "stream",
     "text": [
      "True\n"
     ]
    }
   ],
   "source": [
    "def isIsomorphic(self, s: str, t: str) -> bool:\n",
    "        deger1 = False\n",
    "        deger2 = False\n",
    "        for i in s:\n",
    "           if s.count(i) > 1:\n",
    "               deger1 = True\n",
    "               break\n",
    "        for j in t:\n",
    "           if t.count(j) > 1:\n",
    "               deger2 = True\n",
    "               break\n",
    "        if deger1 == True and deger2 == True:\n",
    "            print(\"True\")\n",
    "        else:\n",
    "            print(\"False\")\n",
    "isIsomorphic(\"aba\",\"ebe\",\"ece\")"
   ]
  },
  {
   "cell_type": "code",
   "execution_count": 40,
   "metadata": {},
   "outputs": [
    {
     "name": "stdout",
     "output_type": "stream",
     "text": [
      "True\n"
     ]
    }
   ],
   "source": [
    "def isIsomorphic(self, s: str, t: str) -> bool:\n",
    "    liste1 = 0\n",
    "    liste2 = 0\n",
    "    for i in s:\n",
    "        liste1 += s.count(i)\n",
    "    for j in t:\n",
    "        liste2 += t.count(j)\n",
    "    if liste1 == liste2:\n",
    "        deger = True\n",
    "    else:\n",
    "        deger = False\n",
    "    return deger\n",
    "\n",
    "\n"
   ]
  },
  {
   "cell_type": "code",
   "execution_count": 63,
   "metadata": {},
   "outputs": [
    {
     "data": {
      "text/plain": [
       "(0, 1)"
      ]
     },
     "execution_count": 63,
     "metadata": {},
     "output_type": "execute_result"
    }
   ],
   "source": [
    "nums = [3,3]\n",
    "target = 6\n",
    "def twoSum():\n",
    "  for i in range(len(nums)):\n",
    "        for j in range(len(nums)):\n",
    "            if i != j:\n",
    "                if nums[i] + nums[j] == target:\n",
    "                    return i,j  \n",
    "                    \n",
    "                \n",
    "twoSum()"
   ]
  },
  {
   "cell_type": "code",
   "execution_count": 78,
   "metadata": {},
   "outputs": [
    {
     "name": "stdout",
     "output_type": "stream",
     "text": [
      "you lose 2\n"
     ]
    }
   ],
   "source": [
    "import random\n",
    "secret_number = random.randint(1,10)\n",
    "a = 3\n",
    "while True:\n",
    "    sayi = int(input(\"sayı giriniz :\"))\n",
    "    if a > 0:\n",
    "        a -=1\n",
    "        if sayi == secret_number:\n",
    "            print(\"you win\")\n",
    "            break\n",
    "    else:\n",
    "        print(f\"you lose {secret_number}\")\n",
    "        break\n",
    "    a -= 1"
   ]
  },
  {
   "cell_type": "code",
   "execution_count": 80,
   "metadata": {},
   "outputs": [
    {
     "name": "stdout",
     "output_type": "stream",
     "text": [
      "True\n",
      "{1, 2, 3, 4, 5, 6, 7, 8}\n"
     ]
    }
   ],
   "source": [
    "nums = [1,2,3,4,5,6,7,7,8]\n",
    "def bla():\n",
    "    for i in nums:\n",
    "        if nums.count(i) > 1:\n",
    "            return True\n",
    "            break         \n",
    "print(bla())\n",
    "myList = [1,2,3,4,5,6,7,7,8]\n",
    "a = set(myList)\n",
    "print(a)\n"
   ]
  },
  {
   "cell_type": "code",
   "execution_count": 9,
   "metadata": {},
   "outputs": [
    {
     "name": "stdout",
     "output_type": "stream",
     "text": [
      "5\n",
      "5\n"
     ]
    }
   ],
   "source": [
    "prices = [7,1,5,3,6,4]\n",
    "liste = [0]\n",
    "uzunluk = len(prices)\n",
    "def a():\n",
    "    for i in range(uzunluk):\n",
    "        for j in range(i+1,uzunluk):\n",
    "            if prices[i] < prices[j]:\n",
    "                liste.append(prices[j]-prices[i])\n",
    "    return max(liste)\n",
    "def b():\n",
    "    liste2 = [prices[j]-prices[i] for i in range(uzunluk) for j in range(i+1,uzunluk)] # list comprehension\n",
    "    liste2.append(0)\n",
    "    return max(liste2)\n",
    "print(b())\n",
    "print(a())\n",
    "    "
   ]
  },
  {
   "cell_type": "code",
   "execution_count": 5,
   "metadata": {},
   "outputs": [
    {
     "name": "stdout",
     "output_type": "stream",
     "text": [
      "7\n",
      "1\n",
      "5\n"
     ]
    }
   ],
   "source": [
    "prices = [7,1,5,3,6,4]\n",
    "min_price = float(\"inf\")\n",
    "max_profit = 0\n",
    "\n",
    "for price in prices:\n",
    "    if price < min_price:\n",
    "        min_price = price\n",
    "        print(min_price)\n",
    "    else:\n",
    "        max_profit = max(max_profit, price - min_price)\n",
    "\n",
    "\n",
    "print(max_profit)"
   ]
  },
  {
   "cell_type": "code",
   "execution_count": 12,
   "metadata": {},
   "outputs": [
    {
     "data": {
      "text/plain": [
       "8"
      ]
     },
     "execution_count": 12,
     "metadata": {},
     "output_type": "execute_result"
    }
   ],
   "source": [
    "def fibonacci(n):\n",
    "    if n <= 1:\n",
    "        return n\n",
    "    else:\n",
    "        return fibonacci(n-1) + fibonacci(n-2)\n",
    "fibonacci(6)"
   ]
  },
  {
   "cell_type": "code",
   "execution_count": 4,
   "metadata": {},
   "outputs": [
    {
     "data": {
      "text/plain": [
       "720"
      ]
     },
     "execution_count": 4,
     "metadata": {},
     "output_type": "execute_result"
    }
   ],
   "source": [
    "def factorial(n):\n",
    "    if n == 0:\n",
    "        return 1\n",
    "    else:\n",
    "        return n * factorial(n-1)\n",
    "factorial(6)"
   ]
  },
  {
   "cell_type": "code",
   "execution_count": 16,
   "metadata": {},
   "outputs": [
    {
     "name": "stdout",
     "output_type": "stream",
     "text": [
      "[14, 26, 35, 51, 52, 52, 53, 63, 74, 107, 109, 113, 131, 170, 172, 178, 185, 193, 201, 203, 216, 235, 256, 288, 300, 312, 327, 359, 367, 402, 403, 441, 446, 447, 452, 467, 468, 471, 482, 499, 507, 508, 525, 527, 534, 549, 557, 558, 565, 566, 576, 582, 587, 590, 615, 617, 641, 642, 669, 675, 680, 683, 690, 690, 696, 701, 702, 713, 722, 728, 736, 757, 769, 773, 788, 798, 804, 805, 807, 814, 818, 836, 859, 861, 865, 879, 902, 919, 925, 927, 930, 951, 956, 962, 964, 972, 978, 982, 986, 988]\n",
      "[14, 26, 35, 51, 52, 52, 53, 63, 74, 107, 109, 113, 131, 170, 172, 178, 185, 193, 201, 203, 216, 235, 256, 288, 300, 312, 327, 359, 367, 402, 403, 441, 446, 447, 452, 467, 468, 471, 482, 499, 507, 508, 525, 527, 534, 549, 557, 558, 565, 566, 576, 582, 587, 590, 615, 617, 641, 642, 669, 675, 680, 683, 690, 690, 696, 701, 702, 713, 722, 728, 736, 757, 769, 773, 788, 798, 804, 805, 807, 814, 818, 836, 859, 861, 865, 879, 902, 919, 925, 927, 930, 951, 956, 962, 964, 972, 978, 982, 986, 988]\n"
     ]
    }
   ],
   "source": [
    "import random\n",
    "\n",
    "random_numbers = []\n",
    "for i in range(100):\n",
    "    random_numbers.append(random.randint(1, 1000))\n",
    "\n",
    "def quicksort(array):\n",
    "    if len(array) < 2:\n",
    "        return array # Base case: arrays with 0 or 1 element are already “sorted.”\n",
    "    else:\n",
    "        pivot = array[0] # Recursive case\n",
    "        less = [i for i in array[1:] if i <= pivot] # Sub-array of all the elements less than the pivot\n",
    "        greater = [i for i in array[1:] if i > pivot] # Sub-array of all the elements greater than the pivot\n",
    "        return quicksort(less) + [pivot] + quicksort(greater)\n",
    "\n",
    "print(quicksort(random_numbers))\n",
    "sorted_numbers = sorted(random_numbers)\n",
    "print(sorted_numbers)\n",
    "\n",
    "\n"
   ]
  }
 ],
 "metadata": {
  "kernelspec": {
   "display_name": "Python 3",
   "language": "python",
   "name": "python3"
  },
  "language_info": {
   "codemirror_mode": {
    "name": "ipython",
    "version": 3
   },
   "file_extension": ".py",
   "mimetype": "text/x-python",
   "name": "python",
   "nbconvert_exporter": "python",
   "pygments_lexer": "ipython3",
   "version": "3.11.1"
  },
  "orig_nbformat": 4,
  "vscode": {
   "interpreter": {
    "hash": "5ffd7eb2cebf9ac436b5021ba01877e9cee6b03524e01bf8c8637d3e64111215"
   }
  }
 },
 "nbformat": 4,
 "nbformat_minor": 2
}
